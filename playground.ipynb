{
 "cells": [
  {
   "cell_type": "code",
   "execution_count": 1,
   "metadata": {},
   "outputs": [],
   "source": [
    "from decouple import config\n",
    "import os\n",
    "\n",
    "from langchain_ollama import ChatOllama\n",
    "from langchain_core.prompts import PromptTemplate\n",
    "\n",
    "from langchain.document_loaders import PyPDFLoader\n",
    "from langchain.text_splitter import RecursiveCharacterTextSplitter\n",
    "from langchain_huggingface import HuggingFaceEmbeddings\n",
    "from langchain.vectorstores.chroma import Chroma\n",
    "\n",
    "from langchain.chains import RetrievalQA, ConversationalRetrievalChain"
   ]
  },
  {
   "cell_type": "code",
   "execution_count": 2,
   "metadata": {},
   "outputs": [
    {
     "name": "stdout",
     "output_type": "stream",
     "text": [
      "Using model: deepseek-coder-v2\n"
     ]
    }
   ],
   "source": [
    "if 'OLLAMA_API_BASE_URL' not in os.environ:\n",
    "    os.environ[\"OPENAI_API_KEY\"] = config('OPENAI_API_KEY')\n",
    "OLLAMA_API_BASE_URL = os.environ['OLLAMA_API_BASE_URL'] if 'OLLAMA_API_BASE_URL' in os.environ else config('OLLAMA_API_BASE_URL')   \n",
    "MODEL = os.environ['MODEL'] if 'MODEL' in os.environ else config('MODEL')   \n",
    "print(f\"Using model: {MODEL}\")"
   ]
  },
  {
   "cell_type": "code",
   "execution_count": 3,
   "metadata": {},
   "outputs": [],
   "source": [
    "# load and chain model\n",
    "llm = ChatOllama(\n",
    "    base_url=OLLAMA_API_BASE_URL, \n",
    "    model=MODEL\n",
    ")"
   ]
  },
  {
   "cell_type": "code",
   "execution_count": 4,
   "metadata": {},
   "outputs": [
    {
     "name": "stderr",
     "output_type": "stream",
     "text": [
      "incorrect startxref pointer(1)\n",
      "parsing for Object Streams\n"
     ]
    }
   ],
   "source": [
    "# load and parse pdf file\n",
    "loader = PyPDFLoader(\"/Users/stolli/IT/Designing Data-Intensive Applications.pdf\")\n",
    "text_splitter = RecursiveCharacterTextSplitter(chunk_size=1000, chunk_overlap=200)\n",
    "pages = loader.load_and_split(text_splitter)"
   ]
  },
  {
   "cell_type": "code",
   "execution_count": 5,
   "metadata": {},
   "outputs": [
    {
     "name": "stderr",
     "output_type": "stream",
     "text": [
      "/Users/stolli/miniforge3/envs/llm-app/lib/python3.9/site-packages/sentence_transformers/cross_encoder/CrossEncoder.py:13: TqdmExperimentalWarning: Using `tqdm.autonotebook.tqdm` in notebook mode. Use `tqdm.tqdm` instead to force console mode (e.g. in jupyter console)\n",
      "  from tqdm.autonotebook import tqdm, trange\n"
     ]
    }
   ],
   "source": [
    "embedding = HuggingFaceEmbeddings(model_name=\"BAAI/bge-small-en-v1.5\")\n",
    "vectorstore = Chroma.from_documents(pages, embedding=embedding, persist_directory=\"chroma_db\")"
   ]
  },
  {
   "cell_type": "code",
   "execution_count": 6,
   "metadata": {},
   "outputs": [
    {
     "data": {
      "text/plain": [
       "[(Document(metadata={'page': 220, 'source': '/Users/stolli/IT/Designing Data-Intensive Applications.pdf'}, page_content='i. Partitioning, as discussed in this chapter, is a way of intentionally breaking a large database down into\\nsmaller ones. It has nothing to do with network partitions  (netsplits), a type of fault in the network between\\nnodes. We will discuss such faults in Chapter 8 .\\nCHAPTER 6\\nPartitioning\\nClearly, we must break away from the sequential and not limit the computers. We must\\nstate definitions and provide for priorities and descriptions of data. We must state relation‐\\nships, not procedures.\\n—Grace Murray Hopper, Management and the Computer of the Future  (1962)\\nIn Chapter 5  we discussed replication—that is, having multiple copies of the same\\ndata on different nodes. For very large datasets, or very high query throughput, that is\\nnot sufficient: we need to break the data up into partitions , also known as sharding .i\\nTerminological confusion\\nWhat we call a partition  here is called a shard  in MongoDB, Elas‐\\nticsearch, and SolrCloud; it’s known as a region  in HBase, a tablet'),\n",
       "  0.4222068190574646),\n",
       " (Document(metadata={'page': 220, 'source': '/Users/stolli/IT/Designing Data-Intensive Applications.pdf'}, page_content='i. Partitioning, as discussed in this chapter, is a way of intentionally breaking a large database down into\\nsmaller ones. It has nothing to do with network partitions  (netsplits), a type of fault in the network between\\nnodes. We will discuss such faults in Chapter 8 .\\nCHAPTER 6\\nPartitioning\\nClearly, we must break away from the sequential and not limit the computers. We must\\nstate definitions and provide for priorities and descriptions of data. We must state relation‐\\nships, not procedures.\\n—Grace Murray Hopper, Management and the Computer of the Future  (1962)\\nIn Chapter 5  we discussed replication—that is, having multiple copies of the same\\ndata on different nodes. For very large datasets, or very high query throughput, that is\\nnot sufficient: we need to break the data up into partitions , also known as sharding .i\\nTerminological confusion\\nWhat we call a partition  here is called a shard  in MongoDB, Elas‐\\nticsearch, and SolrCloud; it’s known as a region  in HBase, a tablet'),\n",
       "  0.4222068190574646),\n",
       " (Document(metadata={'page': 220, 'source': '/Users/stolli/IT/Designing Data-Intensive Applications.pdf'}, page_content='i. Partitioning, as discussed in this chapter, is a way of intentionally breaking a large database down into\\nsmaller ones. It has nothing to do with network partitions  (netsplits), a type of fault in the network between\\nnodes. We will discuss such faults in Chapter 8 .\\nCHAPTER 6\\nPartitioning\\nClearly, we must break away from the sequential and not limit the computers. We must\\nstate definitions and provide for priorities and descriptions of data. We must state relation‐\\nships, not procedures.\\n—Grace Murray Hopper, Management and the Computer of the Future  (1962)\\nIn Chapter 5  we discussed replication—that is, having multiple copies of the same\\ndata on different nodes. For very large datasets, or very high query throughput, that is\\nnot sufficient: we need to break the data up into partitions , also known as sharding .i\\nTerminological confusion\\nWhat we call a partition  here is called a shard  in MongoDB, Elas‐\\nticsearch, and SolrCloud; it’s known as a region  in HBase, a tablet'),\n",
       "  0.4222068190574646),\n",
       " (Document(metadata={'author': 'Martin Kleppmann', 'creationDate': 'D:20170301180120Z', 'creator': 'AH CSS Formatter V6.0 MR2 for Linux64 : 6.0.2.5372 (2012/05/16 18:26JST)', 'file_path': '/Users/stolli/IT/Designing Data-Intensive Applications.pdf', 'format': 'PDF 1.4', 'keywords': '', 'modDate': \"D:20170301130754-05'00'\", 'page': 220, 'producer': 'Antenna House PDF Output Library 2.6.0 (Linux64)', 'source': '/Users/stolli/IT/Designing Data-Intensive Applications.pdf', 'subject': '', 'title': 'Designing Data-Intensive Applications', 'total_pages': 613, 'trapped': ''}, page_content='i. Partitioning, as discussed in this chapter, is a way of intentionally breaking a large database down into\\nsmaller ones. It has nothing to do with network partitions (netsplits), a type of fault in the network between\\nnodes. We will discuss such faults in Chapter 8.\\nCHAPTER 6\\nPartitioning\\nClearly, we must break away from the sequential and not limit the computers. We must\\nstate definitions and provide for priorities and descriptions of data. We must state relation‐\\nships, not procedures.\\n—Grace Murray Hopper, Management and the Computer of the Future (1962)\\nIn Chapter 5 we discussed replication—that is, having multiple copies of the same\\ndata on different nodes. For very large datasets, or very high query throughput, that is\\nnot sufficient: we need to break the data up into partitions, also known as sharding.i\\nTerminological confusion\\nWhat we call a partition here is called a shard in MongoDB, Elas‐\\nticsearch, and SolrCloud; it’s known as a region in HBase, a tablet'),\n",
       "  0.4222068190574646),\n",
       " (Document(metadata={'page': 220, 'source': '/Users/stolli/IT/Designing Data-Intensive Applications.pdf'}, page_content='i. Partitioning, as discussed in this chapter, is a way of intentionally breaking a large database down into\\nsmaller ones. It has nothing to do with network partitions  (netsplits), a type of fault in the network between\\nnodes. We will discuss such faults in Chapter 8 .\\nCHAPTER 6\\nPartitioning\\nClearly, we must break away from the sequential and not limit the computers. We must\\nstate definitions and provide for priorities and descriptions of data. We must state relation‐\\nships, not procedures.\\n—Grace Murray Hopper, Management and the Computer of the Future  (1962)\\nIn Chapter 5  we discussed replication—that is, having multiple copies of the same\\ndata on different nodes. For very large datasets, or very high query throughput, that is\\nnot sufficient: we need to break the data up into partitions , also known as sharding .i\\nTerminological confusion\\nWhat we call a partition  here is called a shard  in MongoDB, Elas‐\\nticsearch, and SolrCloud; it’s known as a region  in HBase, a tablet'),\n",
       "  0.4222068190574646)]"
      ]
     },
     "execution_count": 6,
     "metadata": {},
     "output_type": "execute_result"
    }
   ],
   "source": [
    "vectorstore.similarity_search_with_score(\"What is partitioning?\", 5)"
   ]
  },
  {
   "cell_type": "code",
   "execution_count": 7,
   "metadata": {},
   "outputs": [],
   "source": [
    "retriever = vectorstore.as_retriever()"
   ]
  },
  {
   "cell_type": "code",
   "execution_count": 8,
   "metadata": {},
   "outputs": [],
   "source": [
    "prompt_template = \"\"\"You are an assistant for question-answering tasks. \n",
    "    Use the following pieces of retrieved context to answer the question. \n",
    "    If you don't know the answer, just say that you don't know, don't try to make up an answer.\n",
    "    If you find the answer, write the answer in a concise way and add the list of pages that are used to derive the answer. \n",
    "    Context: {context}\n",
    "    Question: {question}\n",
    "    Answer:\"\"\"\n",
    "\n",
    "prompt = PromptTemplate(\n",
    "    template=prompt_template, \n",
    "    input_variables=['context', 'question']\n",
    ")\n",
    "\n",
    "qa_interface = RetrievalQA.from_chain_type(\n",
    "    llm=llm,\n",
    "    retriever=retriever, \n",
    "    return_source_documents=True, \n",
    "    chain_type_kwargs={\"prompt\": prompt}\n",
    ")"
   ]
  },
  {
   "cell_type": "code",
   "execution_count": 9,
   "metadata": {},
   "outputs": [
    {
     "data": {
      "text/plain": [
       "{'query': 'What is partitioning?',\n",
       " 'result': ' Partitioning is a method of intentionally breaking down a large database into smaller ones. This approach has nothing to do with network partitions (netsplits) or similar faults in the network between nodes. The direct pages used for this answer are from the context provided above and include Chapter 6, specifically discussing partitioning and related terms such as sharding.',\n",
       " 'source_documents': [Document(metadata={'page': 220, 'source': '/Users/stolli/IT/Designing Data-Intensive Applications.pdf'}, page_content='i. Partitioning, as discussed in this chapter, is a way of intentionally breaking a large database down into\\nsmaller ones. It has nothing to do with network partitions  (netsplits), a type of fault in the network between\\nnodes. We will discuss such faults in Chapter 8 .\\nCHAPTER 6\\nPartitioning\\nClearly, we must break away from the sequential and not limit the computers. We must\\nstate definitions and provide for priorities and descriptions of data. We must state relation‐\\nships, not procedures.\\n—Grace Murray Hopper, Management and the Computer of the Future  (1962)\\nIn Chapter 5  we discussed replication—that is, having multiple copies of the same\\ndata on different nodes. For very large datasets, or very high query throughput, that is\\nnot sufficient: we need to break the data up into partitions , also known as sharding .i\\nTerminological confusion\\nWhat we call a partition  here is called a shard  in MongoDB, Elas‐\\nticsearch, and SolrCloud; it’s known as a region  in HBase, a tablet'),\n",
       "  Document(metadata={'page': 220, 'source': '/Users/stolli/IT/Designing Data-Intensive Applications.pdf'}, page_content='i. Partitioning, as discussed in this chapter, is a way of intentionally breaking a large database down into\\nsmaller ones. It has nothing to do with network partitions  (netsplits), a type of fault in the network between\\nnodes. We will discuss such faults in Chapter 8 .\\nCHAPTER 6\\nPartitioning\\nClearly, we must break away from the sequential and not limit the computers. We must\\nstate definitions and provide for priorities and descriptions of data. We must state relation‐\\nships, not procedures.\\n—Grace Murray Hopper, Management and the Computer of the Future  (1962)\\nIn Chapter 5  we discussed replication—that is, having multiple copies of the same\\ndata on different nodes. For very large datasets, or very high query throughput, that is\\nnot sufficient: we need to break the data up into partitions , also known as sharding .i\\nTerminological confusion\\nWhat we call a partition  here is called a shard  in MongoDB, Elas‐\\nticsearch, and SolrCloud; it’s known as a region  in HBase, a tablet'),\n",
       "  Document(metadata={'author': 'Martin Kleppmann', 'creationDate': 'D:20170301180120Z', 'creator': 'AH CSS Formatter V6.0 MR2 for Linux64 : 6.0.2.5372 (2012/05/16 18:26JST)', 'file_path': '/Users/stolli/IT/Designing Data-Intensive Applications.pdf', 'format': 'PDF 1.4', 'keywords': '', 'modDate': \"D:20170301130754-05'00'\", 'page': 220, 'producer': 'Antenna House PDF Output Library 2.6.0 (Linux64)', 'source': '/Users/stolli/IT/Designing Data-Intensive Applications.pdf', 'subject': '', 'title': 'Designing Data-Intensive Applications', 'total_pages': 613, 'trapped': ''}, page_content='i. Partitioning, as discussed in this chapter, is a way of intentionally breaking a large database down into\\nsmaller ones. It has nothing to do with network partitions (netsplits), a type of fault in the network between\\nnodes. We will discuss such faults in Chapter 8.\\nCHAPTER 6\\nPartitioning\\nClearly, we must break away from the sequential and not limit the computers. We must\\nstate definitions and provide for priorities and descriptions of data. We must state relation‐\\nships, not procedures.\\n—Grace Murray Hopper, Management and the Computer of the Future (1962)\\nIn Chapter 5 we discussed replication—that is, having multiple copies of the same\\ndata on different nodes. For very large datasets, or very high query throughput, that is\\nnot sufficient: we need to break the data up into partitions, also known as sharding.i\\nTerminological confusion\\nWhat we call a partition here is called a shard in MongoDB, Elas‐\\nticsearch, and SolrCloud; it’s known as a region in HBase, a tablet'),\n",
       "  Document(metadata={'page': 220, 'source': '/Users/stolli/IT/Designing Data-Intensive Applications.pdf'}, page_content='i. Partitioning, as discussed in this chapter, is a way of intentionally breaking a large database down into\\nsmaller ones. It has nothing to do with network partitions  (netsplits), a type of fault in the network between\\nnodes. We will discuss such faults in Chapter 8 .\\nCHAPTER 6\\nPartitioning\\nClearly, we must break away from the sequential and not limit the computers. We must\\nstate definitions and provide for priorities and descriptions of data. We must state relation‐\\nships, not procedures.\\n—Grace Murray Hopper, Management and the Computer of the Future  (1962)\\nIn Chapter 5  we discussed replication—that is, having multiple copies of the same\\ndata on different nodes. For very large datasets, or very high query throughput, that is\\nnot sufficient: we need to break the data up into partitions , also known as sharding .i\\nTerminological confusion\\nWhat we call a partition  here is called a shard  in MongoDB, Elas‐\\nticsearch, and SolrCloud; it’s known as a region  in HBase, a tablet')]}"
      ]
     },
     "execution_count": 9,
     "metadata": {},
     "output_type": "execute_result"
    }
   ],
   "source": [
    "qa_interface.invoke(\"What is partitioning?\")"
   ]
  },
  {
   "cell_type": "code",
   "execution_count": 10,
   "metadata": {},
   "outputs": [],
   "source": [
    "conv_interface = ConversationalRetrievalChain.from_llm(\n",
    "    llm, \n",
    "    retriever=retriever, \n",
    "    return_source_documents=True, \n",
    "    combine_docs_chain_kwargs={\"prompt\": prompt}\n",
    "    )"
   ]
  },
  {
   "cell_type": "code",
   "execution_count": 11,
   "metadata": {},
   "outputs": [],
   "source": [
    "chat_history = []\n",
    "query = \"What is partitioning?\"\n",
    "\n",
    "result = conv_interface.invoke({\"question\": query, \"chat_history\": chat_history})\n",
    "chat_history.append((query, result[\"answer\"]))"
   ]
  },
  {
   "cell_type": "code",
   "execution_count": 12,
   "metadata": {},
   "outputs": [
    {
     "name": "stdout",
     "output_type": "stream",
     "text": [
      " Partitioning is a method of intentionally breaking down a large database into smaller ones. It involves separating data into distinct partitions or shards, which are also known as sharding in MongoDB, Elasticsearch, and SolrCloud; regions in HBase; and tablets. This approach helps manage larger datasets more efficiently by distributing the load across multiple nodes and supports high query throughput requirements.\n",
      "-----\n",
      "[Document(metadata={'page': 220, 'source': '/Users/stolli/IT/Designing Data-Intensive Applications.pdf'}, page_content='i. Partitioning, as discussed in this chapter, is a way of intentionally breaking a large database down into\\nsmaller ones. It has nothing to do with network partitions  (netsplits), a type of fault in the network between\\nnodes. We will discuss such faults in Chapter 8 .\\nCHAPTER 6\\nPartitioning\\nClearly, we must break away from the sequential and not limit the computers. We must\\nstate definitions and provide for priorities and descriptions of data. We must state relation‐\\nships, not procedures.\\n—Grace Murray Hopper, Management and the Computer of the Future  (1962)\\nIn Chapter 5  we discussed replication—that is, having multiple copies of the same\\ndata on different nodes. For very large datasets, or very high query throughput, that is\\nnot sufficient: we need to break the data up into partitions , also known as sharding .i\\nTerminological confusion\\nWhat we call a partition  here is called a shard  in MongoDB, Elas‐\\nticsearch, and SolrCloud; it’s known as a region  in HBase, a tablet'), Document(metadata={'page': 220, 'source': '/Users/stolli/IT/Designing Data-Intensive Applications.pdf'}, page_content='i. Partitioning, as discussed in this chapter, is a way of intentionally breaking a large database down into\\nsmaller ones. It has nothing to do with network partitions  (netsplits), a type of fault in the network between\\nnodes. We will discuss such faults in Chapter 8 .\\nCHAPTER 6\\nPartitioning\\nClearly, we must break away from the sequential and not limit the computers. We must\\nstate definitions and provide for priorities and descriptions of data. We must state relation‐\\nships, not procedures.\\n—Grace Murray Hopper, Management and the Computer of the Future  (1962)\\nIn Chapter 5  we discussed replication—that is, having multiple copies of the same\\ndata on different nodes. For very large datasets, or very high query throughput, that is\\nnot sufficient: we need to break the data up into partitions , also known as sharding .i\\nTerminological confusion\\nWhat we call a partition  here is called a shard  in MongoDB, Elas‐\\nticsearch, and SolrCloud; it’s known as a region  in HBase, a tablet'), Document(metadata={'author': 'Martin Kleppmann', 'creationDate': 'D:20170301180120Z', 'creator': 'AH CSS Formatter V6.0 MR2 for Linux64 : 6.0.2.5372 (2012/05/16 18:26JST)', 'file_path': '/Users/stolli/IT/Designing Data-Intensive Applications.pdf', 'format': 'PDF 1.4', 'keywords': '', 'modDate': \"D:20170301130754-05'00'\", 'page': 220, 'producer': 'Antenna House PDF Output Library 2.6.0 (Linux64)', 'source': '/Users/stolli/IT/Designing Data-Intensive Applications.pdf', 'subject': '', 'title': 'Designing Data-Intensive Applications', 'total_pages': 613, 'trapped': ''}, page_content='i. Partitioning, as discussed in this chapter, is a way of intentionally breaking a large database down into\\nsmaller ones. It has nothing to do with network partitions (netsplits), a type of fault in the network between\\nnodes. We will discuss such faults in Chapter 8.\\nCHAPTER 6\\nPartitioning\\nClearly, we must break away from the sequential and not limit the computers. We must\\nstate definitions and provide for priorities and descriptions of data. We must state relation‐\\nships, not procedures.\\n—Grace Murray Hopper, Management and the Computer of the Future (1962)\\nIn Chapter 5 we discussed replication—that is, having multiple copies of the same\\ndata on different nodes. For very large datasets, or very high query throughput, that is\\nnot sufficient: we need to break the data up into partitions, also known as sharding.i\\nTerminological confusion\\nWhat we call a partition here is called a shard in MongoDB, Elas‐\\nticsearch, and SolrCloud; it’s known as a region in HBase, a tablet'), Document(metadata={'page': 220, 'source': '/Users/stolli/IT/Designing Data-Intensive Applications.pdf'}, page_content='i. Partitioning, as discussed in this chapter, is a way of intentionally breaking a large database down into\\nsmaller ones. It has nothing to do with network partitions  (netsplits), a type of fault in the network between\\nnodes. We will discuss such faults in Chapter 8 .\\nCHAPTER 6\\nPartitioning\\nClearly, we must break away from the sequential and not limit the computers. We must\\nstate definitions and provide for priorities and descriptions of data. We must state relation‐\\nships, not procedures.\\n—Grace Murray Hopper, Management and the Computer of the Future  (1962)\\nIn Chapter 5  we discussed replication—that is, having multiple copies of the same\\ndata on different nodes. For very large datasets, or very high query throughput, that is\\nnot sufficient: we need to break the data up into partitions , also known as sharding .i\\nTerminological confusion\\nWhat we call a partition  here is called a shard  in MongoDB, Elas‐\\nticsearch, and SolrCloud; it’s known as a region  in HBase, a tablet')]\n"
     ]
    }
   ],
   "source": [
    "print(result[\"answer\"])\n",
    "print('-----')\n",
    "print(result[\"source_documents\"])"
   ]
  },
  {
   "cell_type": "code",
   "execution_count": 13,
   "metadata": {},
   "outputs": [],
   "source": [
    "query = \"Can you repeat your answer as structured list please?\"\n",
    "\n",
    "result = conv_interface.invoke({\"question\": query, \"chat_history\": chat_history})\n"
   ]
  },
  {
   "cell_type": "code",
   "execution_count": null,
   "metadata": {},
   "outputs": [
    {
     "data": {
      "text/plain": [
       "' Partitioning in a database involves intentionally breaking down a large database into smaller ones. This method has nothing to do with network partitions (netsplits), which are faults in the network between nodes. The main differences between partitioning and network partitions are as follows:\\n\\n- **Partitioning**: It is a technique used within databases to divide a large dataset into smaller parts, known as partitions or shards. Each partition contains a subset of the data, making it easier for the database system to manage and query these subsets efficiently. The purpose is to improve performance, scalability, and maintainability by distributing the load across multiple nodes or servers.\\n- **Network Partitions**: These are faults in the network between nodes where communication between different parts of the network becomes impossible, leading to isolated segments that cannot exchange data or information. This type of fault typically results from hardware failures, configuration issues, or other network disruptions.\\n\\n**Directly used pages for this answer:**\\n- i. Partitioning, as discussed in this chapter, is a way of intentionally breaking a large database down into smaller ones. It has nothing to do with network partitions (netsplits), a type of fault in the network between nodes. We will discuss such faults in Chapter 8.'"
      ]
     },
     "execution_count": 14,
     "metadata": {},
     "output_type": "execute_result"
    }
   ],
   "source": [
    "result[\"answer\"]"
   ]
  }
 ],
 "metadata": {
  "kernelspec": {
   "display_name": "llm-app",
   "language": "python",
   "name": "python3"
  },
  "language_info": {
   "codemirror_mode": {
    "name": "ipython",
    "version": 3
   },
   "file_extension": ".py",
   "mimetype": "text/x-python",
   "name": "python",
   "nbconvert_exporter": "python",
   "pygments_lexer": "ipython3",
   "version": "3.9.18"
  }
 },
 "nbformat": 4,
 "nbformat_minor": 2
}
