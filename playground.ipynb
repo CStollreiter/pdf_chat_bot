{
 "cells": [
  {
   "cell_type": "code",
   "execution_count": 1,
   "metadata": {},
   "outputs": [],
   "source": [
    "from decouple import config\n",
    "import os\n",
    "import uuid\n",
    "\n",
    "from langchain.document_loaders import PyPDFLoader\n",
    "from langchain.text_splitter import RecursiveCharacterTextSplitter\n",
    "from langchain_huggingface import HuggingFaceEmbeddings\n",
    "from langchain.vectorstores.chroma import Chroma\n",
    "\n",
    "from langchain_ollama import ChatOllama\n",
    "from langchain_community.llms import LlamaCpp\n",
    "from langchain_core.callbacks import CallbackManager, StreamingStdOutCallbackHandler\n",
    "\n",
    "from langchain_core.prompts import ChatPromptTemplate, MessagesPlaceholder\n",
    "\n",
    "from langchain_community.chat_message_histories import ChatMessageHistory\n",
    "from langchain_core.chat_history import BaseChatMessageHistory\n",
    "from langchain_core.runnables.history import RunnableWithMessageHistory\n",
    "\n",
    "from langchain.chains import create_history_aware_retriever, create_retrieval_chain\n",
    "from langchain.chains.combine_documents import create_stuff_documents_chain\n",
    "\n",
    "from PDFChatBot import PDFChatBot"
   ]
  },
  {
   "cell_type": "code",
   "execution_count": 17,
   "metadata": {},
   "outputs": [],
   "source": [
    "session_id = str(uuid.uuid4()).replace('-', '_')"
   ]
  },
  {
   "cell_type": "code",
   "execution_count": 3,
   "metadata": {},
   "outputs": [
    {
     "name": "stdout",
     "output_type": "stream",
     "text": [
      "Using LLM: deepseek-coder-v2\n",
      "Using embedding model: sentence-transformers/all-MiniLM-L6-v2\n"
     ]
    }
   ],
   "source": [
    "if 'OLLAMA_API_BASE_URL' not in os.environ:\n",
    "    os.environ[\"OPENAI_API_KEY\"] = config('OPENAI_API_KEY')\n",
    "OLLAMA_API_BASE_URL = os.environ['OLLAMA_API_BASE_URL'] if 'OLLAMA_API_BASE_URL' in os.environ else config('OLLAMA_API_BASE_URL')   \n",
    "LLM = os.environ['LLM'] if 'LLM' in os.environ else config('LLM')   \n",
    "EMBEDDING_MODEL = os.environ['EMBEDDING_MODEL'] if 'EMBEDDING_MODEL' in os.environ else config('EMBEDDING_MODEL')  \n",
    "\n",
    "print(f'Using LLM: {LLM}')\n",
    "print(f'Using embedding model: {EMBEDDING_MODEL}')"
   ]
  },
  {
   "cell_type": "code",
   "execution_count": 4,
   "metadata": {},
   "outputs": [
    {
     "name": "stderr",
     "output_type": "stream",
     "text": [
      "/Users/stolli/miniforge3/envs/llm-app/lib/python3.9/site-packages/sentence_transformers/cross_encoder/CrossEncoder.py:13: TqdmExperimentalWarning: Using `tqdm.autonotebook.tqdm` in notebook mode. Use `tqdm.tqdm` instead to force console mode (e.g. in jupyter console)\n",
      "  from tqdm.autonotebook import tqdm, trange\n",
      "/Users/stolli/miniforge3/envs/llm-app/lib/python3.9/site-packages/transformers/tokenization_utils_base.py:1601: FutureWarning: `clean_up_tokenization_spaces` was not set. It will be set to `True` by default. This behavior will be depracted in transformers v4.45, and will be then set to `False` by default. For more details check this issue: https://github.com/huggingface/transformers/issues/31884\n",
      "  warnings.warn(\n"
     ]
    }
   ],
   "source": [
    "embedding_model = HuggingFaceEmbeddings(model_name=EMBEDDING_MODEL)"
   ]
  },
  {
   "cell_type": "code",
   "execution_count": 5,
   "metadata": {},
   "outputs": [],
   "source": [
    "llm = ChatOllama(\n",
    "    base_url=OLLAMA_API_BASE_URL, \n",
    "    model=LLM\n",
    ")"
   ]
  },
  {
   "cell_type": "code",
   "execution_count": 6,
   "metadata": {},
   "outputs": [
    {
     "name": "stderr",
     "output_type": "stream",
     "text": [
      "incorrect startxref pointer(1)\n"
     ]
    },
    {
     "name": "stdout",
     "output_type": "stream",
     "text": [
      "Initializing PDF Chatbot ...\n",
      "--- Loading and vectorizing PDF file ---\n"
     ]
    },
    {
     "name": "stderr",
     "output_type": "stream",
     "text": [
      "parsing for Object Streams\n"
     ]
    },
    {
     "name": "stdout",
     "output_type": "stream",
     "text": [
      "--- Initializing history aware LLM ---\n"
     ]
    }
   ],
   "source": [
    "chat_bot = PDFChatBot('/Users/stolli/IT/Designing Data-Intensive Applications.pdf', embedding_model, llm)"
   ]
  },
  {
   "cell_type": "code",
   "execution_count": 9,
   "metadata": {},
   "outputs": [
    {
     "name": "stdout",
     "output_type": "stream",
     "text": [
      "--- Generating response ---\n"
     ]
    },
    {
     "ename": "ResponseError",
     "evalue": "an unknown error was encountered while running the model ",
     "output_type": "error",
     "traceback": [
      "\u001b[0;31m---------------------------------------------------------------------------\u001b[0m",
      "\u001b[0;31mResponseError\u001b[0m                             Traceback (most recent call last)",
      "\u001b[1;32m/Users/stolli/IT/llm_app/playground.ipynb Cell 7\u001b[0m line \u001b[0;36m1\n\u001b[0;32m----> <a href='vscode-notebook-cell:/Users/stolli/IT/llm_app/playground.ipynb#X50sZmlsZQ%3D%3D?line=0'>1</a>\u001b[0m chat_bot\u001b[39m.\u001b[39;49mget_response(\u001b[39m'\u001b[39;49m\u001b[39mWhat is partitioning?\u001b[39;49m\u001b[39m'\u001b[39;49m, session_id\u001b[39m=\u001b[39;49m\u001b[39m'\u001b[39;49m\u001b[39mabc-123\u001b[39;49m\u001b[39m'\u001b[39;49m)\n",
      "File \u001b[0;32m~/IT/llm_app/PDFChatBot.py:84\u001b[0m, in \u001b[0;36mPDFChatBot.get_response\u001b[0;34m(self, question, session_id)\u001b[0m\n\u001b[1;32m     82\u001b[0m \u001b[39mdef\u001b[39;00m \u001b[39mget_response\u001b[39m(\u001b[39mself\u001b[39m, question, session_id):\n\u001b[1;32m     83\u001b[0m     \u001b[39mprint\u001b[39m(\u001b[39m'\u001b[39m\u001b[39m--- Generating response ---\u001b[39m\u001b[39m'\u001b[39m)\n\u001b[0;32m---> 84\u001b[0m     \u001b[39mreturn\u001b[39;00m \u001b[39mself\u001b[39;49m\u001b[39m.\u001b[39;49m_rag_chain_with_history\u001b[39m.\u001b[39;49minvoke(\n\u001b[1;32m     85\u001b[0m         {\u001b[39m\"\u001b[39;49m\u001b[39minput\u001b[39;49m\u001b[39m\"\u001b[39;49m: question},\n\u001b[1;32m     86\u001b[0m         config\u001b[39m=\u001b[39;49m{\n\u001b[1;32m     87\u001b[0m             \u001b[39m\"\u001b[39;49m\u001b[39mconfigurable\u001b[39;49m\u001b[39m\"\u001b[39;49m: {\u001b[39m\"\u001b[39;49m\u001b[39msession_id\u001b[39;49m\u001b[39m\"\u001b[39;49m: session_id}\n\u001b[1;32m     88\u001b[0m         }\n\u001b[1;32m     89\u001b[0m     )\n",
      "File \u001b[0;32m~/miniforge3/envs/llm-app/lib/python3.9/site-packages/langchain_core/runnables/base.py:5313\u001b[0m, in \u001b[0;36mRunnableBindingBase.invoke\u001b[0;34m(self, input, config, **kwargs)\u001b[0m\n\u001b[1;32m   5307\u001b[0m \u001b[39mdef\u001b[39;00m \u001b[39minvoke\u001b[39m(\n\u001b[1;32m   5308\u001b[0m     \u001b[39mself\u001b[39m,\n\u001b[1;32m   5309\u001b[0m     \u001b[39minput\u001b[39m: Input,\n\u001b[1;32m   5310\u001b[0m     config: Optional[RunnableConfig] \u001b[39m=\u001b[39m \u001b[39mNone\u001b[39;00m,\n\u001b[1;32m   5311\u001b[0m     \u001b[39m*\u001b[39m\u001b[39m*\u001b[39mkwargs: Optional[Any],\n\u001b[1;32m   5312\u001b[0m ) \u001b[39m-\u001b[39m\u001b[39m>\u001b[39m Output:\n\u001b[0;32m-> 5313\u001b[0m     \u001b[39mreturn\u001b[39;00m \u001b[39mself\u001b[39;49m\u001b[39m.\u001b[39;49mbound\u001b[39m.\u001b[39;49minvoke(\n\u001b[1;32m   5314\u001b[0m         \u001b[39minput\u001b[39;49m,\n\u001b[1;32m   5315\u001b[0m         \u001b[39mself\u001b[39;49m\u001b[39m.\u001b[39;49m_merge_configs(config),\n\u001b[1;32m   5316\u001b[0m         \u001b[39m*\u001b[39;49m\u001b[39m*\u001b[39;49m{\u001b[39m*\u001b[39;49m\u001b[39m*\u001b[39;49m\u001b[39mself\u001b[39;49m\u001b[39m.\u001b[39;49mkwargs, \u001b[39m*\u001b[39;49m\u001b[39m*\u001b[39;49mkwargs},\n\u001b[1;32m   5317\u001b[0m     )\n",
      "File \u001b[0;32m~/miniforge3/envs/llm-app/lib/python3.9/site-packages/langchain_core/runnables/base.py:5313\u001b[0m, in \u001b[0;36mRunnableBindingBase.invoke\u001b[0;34m(self, input, config, **kwargs)\u001b[0m\n\u001b[1;32m   5307\u001b[0m \u001b[39mdef\u001b[39;00m \u001b[39minvoke\u001b[39m(\n\u001b[1;32m   5308\u001b[0m     \u001b[39mself\u001b[39m,\n\u001b[1;32m   5309\u001b[0m     \u001b[39minput\u001b[39m: Input,\n\u001b[1;32m   5310\u001b[0m     config: Optional[RunnableConfig] \u001b[39m=\u001b[39m \u001b[39mNone\u001b[39;00m,\n\u001b[1;32m   5311\u001b[0m     \u001b[39m*\u001b[39m\u001b[39m*\u001b[39mkwargs: Optional[Any],\n\u001b[1;32m   5312\u001b[0m ) \u001b[39m-\u001b[39m\u001b[39m>\u001b[39m Output:\n\u001b[0;32m-> 5313\u001b[0m     \u001b[39mreturn\u001b[39;00m \u001b[39mself\u001b[39;49m\u001b[39m.\u001b[39;49mbound\u001b[39m.\u001b[39;49minvoke(\n\u001b[1;32m   5314\u001b[0m         \u001b[39minput\u001b[39;49m,\n\u001b[1;32m   5315\u001b[0m         \u001b[39mself\u001b[39;49m\u001b[39m.\u001b[39;49m_merge_configs(config),\n\u001b[1;32m   5316\u001b[0m         \u001b[39m*\u001b[39;49m\u001b[39m*\u001b[39;49m{\u001b[39m*\u001b[39;49m\u001b[39m*\u001b[39;49m\u001b[39mself\u001b[39;49m\u001b[39m.\u001b[39;49mkwargs, \u001b[39m*\u001b[39;49m\u001b[39m*\u001b[39;49mkwargs},\n\u001b[1;32m   5317\u001b[0m     )\n",
      "File \u001b[0;32m~/miniforge3/envs/llm-app/lib/python3.9/site-packages/langchain_core/runnables/base.py:3013\u001b[0m, in \u001b[0;36mRunnableSequence.invoke\u001b[0;34m(self, input, config, **kwargs)\u001b[0m\n\u001b[1;32m   3011\u001b[0m             \u001b[39minput\u001b[39m \u001b[39m=\u001b[39m context\u001b[39m.\u001b[39mrun(step\u001b[39m.\u001b[39minvoke, \u001b[39minput\u001b[39m, config, \u001b[39m*\u001b[39m\u001b[39m*\u001b[39mkwargs)\n\u001b[1;32m   3012\u001b[0m         \u001b[39melse\u001b[39;00m:\n\u001b[0;32m-> 3013\u001b[0m             \u001b[39minput\u001b[39m \u001b[39m=\u001b[39m context\u001b[39m.\u001b[39;49mrun(step\u001b[39m.\u001b[39;49minvoke, \u001b[39minput\u001b[39;49m, config)\n\u001b[1;32m   3014\u001b[0m \u001b[39m# finish the root run\u001b[39;00m\n\u001b[1;32m   3015\u001b[0m \u001b[39mexcept\u001b[39;00m \u001b[39mBaseException\u001b[39;00m \u001b[39mas\u001b[39;00m e:\n",
      "File \u001b[0;32m~/miniforge3/envs/llm-app/lib/python3.9/site-packages/langchain_core/runnables/base.py:5313\u001b[0m, in \u001b[0;36mRunnableBindingBase.invoke\u001b[0;34m(self, input, config, **kwargs)\u001b[0m\n\u001b[1;32m   5307\u001b[0m \u001b[39mdef\u001b[39;00m \u001b[39minvoke\u001b[39m(\n\u001b[1;32m   5308\u001b[0m     \u001b[39mself\u001b[39m,\n\u001b[1;32m   5309\u001b[0m     \u001b[39minput\u001b[39m: Input,\n\u001b[1;32m   5310\u001b[0m     config: Optional[RunnableConfig] \u001b[39m=\u001b[39m \u001b[39mNone\u001b[39;00m,\n\u001b[1;32m   5311\u001b[0m     \u001b[39m*\u001b[39m\u001b[39m*\u001b[39mkwargs: Optional[Any],\n\u001b[1;32m   5312\u001b[0m ) \u001b[39m-\u001b[39m\u001b[39m>\u001b[39m Output:\n\u001b[0;32m-> 5313\u001b[0m     \u001b[39mreturn\u001b[39;00m \u001b[39mself\u001b[39;49m\u001b[39m.\u001b[39;49mbound\u001b[39m.\u001b[39;49minvoke(\n\u001b[1;32m   5314\u001b[0m         \u001b[39minput\u001b[39;49m,\n\u001b[1;32m   5315\u001b[0m         \u001b[39mself\u001b[39;49m\u001b[39m.\u001b[39;49m_merge_configs(config),\n\u001b[1;32m   5316\u001b[0m         \u001b[39m*\u001b[39;49m\u001b[39m*\u001b[39;49m{\u001b[39m*\u001b[39;49m\u001b[39m*\u001b[39;49m\u001b[39mself\u001b[39;49m\u001b[39m.\u001b[39;49mkwargs, \u001b[39m*\u001b[39;49m\u001b[39m*\u001b[39;49mkwargs},\n\u001b[1;32m   5317\u001b[0m     )\n",
      "File \u001b[0;32m~/miniforge3/envs/llm-app/lib/python3.9/site-packages/langchain_core/runnables/base.py:4680\u001b[0m, in \u001b[0;36mRunnableLambda.invoke\u001b[0;34m(self, input, config, **kwargs)\u001b[0m\n\u001b[1;32m   4666\u001b[0m \u001b[39m\u001b[39m\u001b[39m\"\"\"Invoke this Runnable synchronously.\u001b[39;00m\n\u001b[1;32m   4667\u001b[0m \n\u001b[1;32m   4668\u001b[0m \u001b[39mArgs:\u001b[39;00m\n\u001b[0;32m   (...)\u001b[0m\n\u001b[1;32m   4677\u001b[0m \u001b[39m    TypeError: If the Runnable is a coroutine function.\u001b[39;00m\n\u001b[1;32m   4678\u001b[0m \u001b[39m\"\"\"\u001b[39;00m\n\u001b[1;32m   4679\u001b[0m \u001b[39mif\u001b[39;00m \u001b[39mhasattr\u001b[39m(\u001b[39mself\u001b[39m, \u001b[39m\"\u001b[39m\u001b[39mfunc\u001b[39m\u001b[39m\"\u001b[39m):\n\u001b[0;32m-> 4680\u001b[0m     \u001b[39mreturn\u001b[39;00m \u001b[39mself\u001b[39;49m\u001b[39m.\u001b[39;49m_call_with_config(\n\u001b[1;32m   4681\u001b[0m         \u001b[39mself\u001b[39;49m\u001b[39m.\u001b[39;49m_invoke,\n\u001b[1;32m   4682\u001b[0m         \u001b[39minput\u001b[39;49m,\n\u001b[1;32m   4683\u001b[0m         \u001b[39mself\u001b[39;49m\u001b[39m.\u001b[39;49m_config(config, \u001b[39mself\u001b[39;49m\u001b[39m.\u001b[39;49mfunc),\n\u001b[1;32m   4684\u001b[0m         \u001b[39m*\u001b[39;49m\u001b[39m*\u001b[39;49mkwargs,\n\u001b[1;32m   4685\u001b[0m     )\n\u001b[1;32m   4686\u001b[0m \u001b[39melse\u001b[39;00m:\n\u001b[1;32m   4687\u001b[0m     \u001b[39mraise\u001b[39;00m \u001b[39mTypeError\u001b[39;00m(\n\u001b[1;32m   4688\u001b[0m         \u001b[39m\"\u001b[39m\u001b[39mCannot invoke a coroutine function synchronously.\u001b[39m\u001b[39m\"\u001b[39m\n\u001b[1;32m   4689\u001b[0m         \u001b[39m\"\u001b[39m\u001b[39mUse `ainvoke` instead.\u001b[39m\u001b[39m\"\u001b[39m\n\u001b[1;32m   4690\u001b[0m     )\n",
      "File \u001b[0;32m~/miniforge3/envs/llm-app/lib/python3.9/site-packages/langchain_core/runnables/base.py:1916\u001b[0m, in \u001b[0;36mRunnable._call_with_config\u001b[0;34m(self, func, input, config, run_type, serialized, **kwargs)\u001b[0m\n\u001b[1;32m   1912\u001b[0m     context \u001b[39m=\u001b[39m copy_context()\n\u001b[1;32m   1913\u001b[0m     context\u001b[39m.\u001b[39mrun(_set_config_context, child_config)\n\u001b[1;32m   1914\u001b[0m     output \u001b[39m=\u001b[39m cast(\n\u001b[1;32m   1915\u001b[0m         Output,\n\u001b[0;32m-> 1916\u001b[0m         context\u001b[39m.\u001b[39;49mrun(\n\u001b[1;32m   1917\u001b[0m             call_func_with_variable_args,  \u001b[39m# type: ignore[arg-type]\u001b[39;49;00m\n\u001b[1;32m   1918\u001b[0m             func,  \u001b[39m# type: ignore[arg-type]\u001b[39;49;00m\n\u001b[1;32m   1919\u001b[0m             \u001b[39minput\u001b[39;49m,  \u001b[39m# type: ignore[arg-type]\u001b[39;49;00m\n\u001b[1;32m   1920\u001b[0m             config,\n\u001b[1;32m   1921\u001b[0m             run_manager,\n\u001b[1;32m   1922\u001b[0m             \u001b[39m*\u001b[39;49m\u001b[39m*\u001b[39;49mkwargs,\n\u001b[1;32m   1923\u001b[0m         ),\n\u001b[1;32m   1924\u001b[0m     )\n\u001b[1;32m   1925\u001b[0m \u001b[39mexcept\u001b[39;00m \u001b[39mBaseException\u001b[39;00m \u001b[39mas\u001b[39;00m e:\n\u001b[1;32m   1926\u001b[0m     run_manager\u001b[39m.\u001b[39mon_chain_error(e)\n",
      "File \u001b[0;32m~/miniforge3/envs/llm-app/lib/python3.9/site-packages/langchain_core/runnables/config.py:398\u001b[0m, in \u001b[0;36mcall_func_with_variable_args\u001b[0;34m(func, input, config, run_manager, **kwargs)\u001b[0m\n\u001b[1;32m    396\u001b[0m \u001b[39mif\u001b[39;00m run_manager \u001b[39mis\u001b[39;00m \u001b[39mnot\u001b[39;00m \u001b[39mNone\u001b[39;00m \u001b[39mand\u001b[39;00m accepts_run_manager(func):\n\u001b[1;32m    397\u001b[0m     kwargs[\u001b[39m\"\u001b[39m\u001b[39mrun_manager\u001b[39m\u001b[39m\"\u001b[39m] \u001b[39m=\u001b[39m run_manager\n\u001b[0;32m--> 398\u001b[0m \u001b[39mreturn\u001b[39;00m func(\u001b[39minput\u001b[39;49m, \u001b[39m*\u001b[39;49m\u001b[39m*\u001b[39;49mkwargs)\n",
      "File \u001b[0;32m~/miniforge3/envs/llm-app/lib/python3.9/site-packages/langchain_core/runnables/base.py:4546\u001b[0m, in \u001b[0;36mRunnableLambda._invoke\u001b[0;34m(self, input, run_manager, config, **kwargs)\u001b[0m\n\u001b[1;32m   4542\u001b[0m     \u001b[39mif\u001b[39;00m recursion_limit \u001b[39m<\u001b[39m\u001b[39m=\u001b[39m \u001b[39m0\u001b[39m:\n\u001b[1;32m   4543\u001b[0m         \u001b[39mraise\u001b[39;00m \u001b[39mRecursionError\u001b[39;00m(\n\u001b[1;32m   4544\u001b[0m             \u001b[39mf\u001b[39m\u001b[39m\"\u001b[39m\u001b[39mRecursion limit reached when invoking \u001b[39m\u001b[39m{\u001b[39;00m\u001b[39mself\u001b[39m\u001b[39m}\u001b[39;00m\u001b[39m with input \u001b[39m\u001b[39m{\u001b[39;00m\u001b[39minput\u001b[39m\u001b[39m}\u001b[39;00m\u001b[39m.\u001b[39m\u001b[39m\"\u001b[39m\n\u001b[1;32m   4545\u001b[0m         )\n\u001b[0;32m-> 4546\u001b[0m     output \u001b[39m=\u001b[39m output\u001b[39m.\u001b[39;49minvoke(\n\u001b[1;32m   4547\u001b[0m         \u001b[39minput\u001b[39;49m,\n\u001b[1;32m   4548\u001b[0m         patch_config(\n\u001b[1;32m   4549\u001b[0m             config,\n\u001b[1;32m   4550\u001b[0m             callbacks\u001b[39m=\u001b[39;49mrun_manager\u001b[39m.\u001b[39;49mget_child(),\n\u001b[1;32m   4551\u001b[0m             recursion_limit\u001b[39m=\u001b[39;49mrecursion_limit \u001b[39m-\u001b[39;49m \u001b[39m1\u001b[39;49m,\n\u001b[1;32m   4552\u001b[0m         ),\n\u001b[1;32m   4553\u001b[0m     )\n\u001b[1;32m   4554\u001b[0m \u001b[39mreturn\u001b[39;00m cast(Output, output)\n",
      "File \u001b[0;32m~/miniforge3/envs/llm-app/lib/python3.9/site-packages/langchain_core/runnables/base.py:5313\u001b[0m, in \u001b[0;36mRunnableBindingBase.invoke\u001b[0;34m(self, input, config, **kwargs)\u001b[0m\n\u001b[1;32m   5307\u001b[0m \u001b[39mdef\u001b[39;00m \u001b[39minvoke\u001b[39m(\n\u001b[1;32m   5308\u001b[0m     \u001b[39mself\u001b[39m,\n\u001b[1;32m   5309\u001b[0m     \u001b[39minput\u001b[39m: Input,\n\u001b[1;32m   5310\u001b[0m     config: Optional[RunnableConfig] \u001b[39m=\u001b[39m \u001b[39mNone\u001b[39;00m,\n\u001b[1;32m   5311\u001b[0m     \u001b[39m*\u001b[39m\u001b[39m*\u001b[39mkwargs: Optional[Any],\n\u001b[1;32m   5312\u001b[0m ) \u001b[39m-\u001b[39m\u001b[39m>\u001b[39m Output:\n\u001b[0;32m-> 5313\u001b[0m     \u001b[39mreturn\u001b[39;00m \u001b[39mself\u001b[39;49m\u001b[39m.\u001b[39;49mbound\u001b[39m.\u001b[39;49minvoke(\n\u001b[1;32m   5314\u001b[0m         \u001b[39minput\u001b[39;49m,\n\u001b[1;32m   5315\u001b[0m         \u001b[39mself\u001b[39;49m\u001b[39m.\u001b[39;49m_merge_configs(config),\n\u001b[1;32m   5316\u001b[0m         \u001b[39m*\u001b[39;49m\u001b[39m*\u001b[39;49m{\u001b[39m*\u001b[39;49m\u001b[39m*\u001b[39;49m\u001b[39mself\u001b[39;49m\u001b[39m.\u001b[39;49mkwargs, \u001b[39m*\u001b[39;49m\u001b[39m*\u001b[39;49mkwargs},\n\u001b[1;32m   5317\u001b[0m     )\n",
      "File \u001b[0;32m~/miniforge3/envs/llm-app/lib/python3.9/site-packages/langchain_core/runnables/base.py:3013\u001b[0m, in \u001b[0;36mRunnableSequence.invoke\u001b[0;34m(self, input, config, **kwargs)\u001b[0m\n\u001b[1;32m   3011\u001b[0m             \u001b[39minput\u001b[39m \u001b[39m=\u001b[39m context\u001b[39m.\u001b[39mrun(step\u001b[39m.\u001b[39minvoke, \u001b[39minput\u001b[39m, config, \u001b[39m*\u001b[39m\u001b[39m*\u001b[39mkwargs)\n\u001b[1;32m   3012\u001b[0m         \u001b[39melse\u001b[39;00m:\n\u001b[0;32m-> 3013\u001b[0m             \u001b[39minput\u001b[39m \u001b[39m=\u001b[39m context\u001b[39m.\u001b[39;49mrun(step\u001b[39m.\u001b[39;49minvoke, \u001b[39minput\u001b[39;49m, config)\n\u001b[1;32m   3014\u001b[0m \u001b[39m# finish the root run\u001b[39;00m\n\u001b[1;32m   3015\u001b[0m \u001b[39mexcept\u001b[39;00m \u001b[39mBaseException\u001b[39;00m \u001b[39mas\u001b[39;00m e:\n",
      "File \u001b[0;32m~/miniforge3/envs/llm-app/lib/python3.9/site-packages/langchain_core/runnables/passthrough.py:497\u001b[0m, in \u001b[0;36mRunnableAssign.invoke\u001b[0;34m(self, input, config, **kwargs)\u001b[0m\n\u001b[1;32m    491\u001b[0m \u001b[39mdef\u001b[39;00m \u001b[39minvoke\u001b[39m(\n\u001b[1;32m    492\u001b[0m     \u001b[39mself\u001b[39m,\n\u001b[1;32m    493\u001b[0m     \u001b[39minput\u001b[39m: Dict[\u001b[39mstr\u001b[39m, Any],\n\u001b[1;32m    494\u001b[0m     config: Optional[RunnableConfig] \u001b[39m=\u001b[39m \u001b[39mNone\u001b[39;00m,\n\u001b[1;32m    495\u001b[0m     \u001b[39m*\u001b[39m\u001b[39m*\u001b[39mkwargs: Any,\n\u001b[1;32m    496\u001b[0m ) \u001b[39m-\u001b[39m\u001b[39m>\u001b[39m Dict[\u001b[39mstr\u001b[39m, Any]:\n\u001b[0;32m--> 497\u001b[0m     \u001b[39mreturn\u001b[39;00m \u001b[39mself\u001b[39;49m\u001b[39m.\u001b[39;49m_call_with_config(\u001b[39mself\u001b[39;49m\u001b[39m.\u001b[39;49m_invoke, \u001b[39minput\u001b[39;49m, config, \u001b[39m*\u001b[39;49m\u001b[39m*\u001b[39;49mkwargs)\n",
      "File \u001b[0;32m~/miniforge3/envs/llm-app/lib/python3.9/site-packages/langchain_core/runnables/base.py:1916\u001b[0m, in \u001b[0;36mRunnable._call_with_config\u001b[0;34m(self, func, input, config, run_type, serialized, **kwargs)\u001b[0m\n\u001b[1;32m   1912\u001b[0m     context \u001b[39m=\u001b[39m copy_context()\n\u001b[1;32m   1913\u001b[0m     context\u001b[39m.\u001b[39mrun(_set_config_context, child_config)\n\u001b[1;32m   1914\u001b[0m     output \u001b[39m=\u001b[39m cast(\n\u001b[1;32m   1915\u001b[0m         Output,\n\u001b[0;32m-> 1916\u001b[0m         context\u001b[39m.\u001b[39;49mrun(\n\u001b[1;32m   1917\u001b[0m             call_func_with_variable_args,  \u001b[39m# type: ignore[arg-type]\u001b[39;49;00m\n\u001b[1;32m   1918\u001b[0m             func,  \u001b[39m# type: ignore[arg-type]\u001b[39;49;00m\n\u001b[1;32m   1919\u001b[0m             \u001b[39minput\u001b[39;49m,  \u001b[39m# type: ignore[arg-type]\u001b[39;49;00m\n\u001b[1;32m   1920\u001b[0m             config,\n\u001b[1;32m   1921\u001b[0m             run_manager,\n\u001b[1;32m   1922\u001b[0m             \u001b[39m*\u001b[39;49m\u001b[39m*\u001b[39;49mkwargs,\n\u001b[1;32m   1923\u001b[0m         ),\n\u001b[1;32m   1924\u001b[0m     )\n\u001b[1;32m   1925\u001b[0m \u001b[39mexcept\u001b[39;00m \u001b[39mBaseException\u001b[39;00m \u001b[39mas\u001b[39;00m e:\n\u001b[1;32m   1926\u001b[0m     run_manager\u001b[39m.\u001b[39mon_chain_error(e)\n",
      "File \u001b[0;32m~/miniforge3/envs/llm-app/lib/python3.9/site-packages/langchain_core/runnables/config.py:398\u001b[0m, in \u001b[0;36mcall_func_with_variable_args\u001b[0;34m(func, input, config, run_manager, **kwargs)\u001b[0m\n\u001b[1;32m    396\u001b[0m \u001b[39mif\u001b[39;00m run_manager \u001b[39mis\u001b[39;00m \u001b[39mnot\u001b[39;00m \u001b[39mNone\u001b[39;00m \u001b[39mand\u001b[39;00m accepts_run_manager(func):\n\u001b[1;32m    397\u001b[0m     kwargs[\u001b[39m\"\u001b[39m\u001b[39mrun_manager\u001b[39m\u001b[39m\"\u001b[39m] \u001b[39m=\u001b[39m run_manager\n\u001b[0;32m--> 398\u001b[0m \u001b[39mreturn\u001b[39;00m func(\u001b[39minput\u001b[39;49m, \u001b[39m*\u001b[39;49m\u001b[39m*\u001b[39;49mkwargs)\n",
      "File \u001b[0;32m~/miniforge3/envs/llm-app/lib/python3.9/site-packages/langchain_core/runnables/passthrough.py:484\u001b[0m, in \u001b[0;36mRunnableAssign._invoke\u001b[0;34m(self, input, run_manager, config, **kwargs)\u001b[0m\n\u001b[1;32m    471\u001b[0m \u001b[39mdef\u001b[39;00m \u001b[39m_invoke\u001b[39m(\n\u001b[1;32m    472\u001b[0m     \u001b[39mself\u001b[39m,\n\u001b[1;32m    473\u001b[0m     \u001b[39minput\u001b[39m: Dict[\u001b[39mstr\u001b[39m, Any],\n\u001b[0;32m   (...)\u001b[0m\n\u001b[1;32m    476\u001b[0m     \u001b[39m*\u001b[39m\u001b[39m*\u001b[39mkwargs: Any,\n\u001b[1;32m    477\u001b[0m ) \u001b[39m-\u001b[39m\u001b[39m>\u001b[39m Dict[\u001b[39mstr\u001b[39m, Any]:\n\u001b[1;32m    478\u001b[0m     \u001b[39massert\u001b[39;00m \u001b[39misinstance\u001b[39m(\n\u001b[1;32m    479\u001b[0m         \u001b[39minput\u001b[39m, \u001b[39mdict\u001b[39m\n\u001b[1;32m    480\u001b[0m     ), \u001b[39m\"\u001b[39m\u001b[39mThe input to RunnablePassthrough.assign() must be a dict.\u001b[39m\u001b[39m\"\u001b[39m\n\u001b[1;32m    482\u001b[0m     \u001b[39mreturn\u001b[39;00m {\n\u001b[1;32m    483\u001b[0m         \u001b[39m*\u001b[39m\u001b[39m*\u001b[39m\u001b[39minput\u001b[39m,\n\u001b[0;32m--> 484\u001b[0m         \u001b[39m*\u001b[39m\u001b[39m*\u001b[39m\u001b[39mself\u001b[39;49m\u001b[39m.\u001b[39;49mmapper\u001b[39m.\u001b[39;49minvoke(\n\u001b[1;32m    485\u001b[0m             \u001b[39minput\u001b[39;49m,\n\u001b[1;32m    486\u001b[0m             patch_config(config, callbacks\u001b[39m=\u001b[39;49mrun_manager\u001b[39m.\u001b[39;49mget_child()),\n\u001b[1;32m    487\u001b[0m             \u001b[39m*\u001b[39;49m\u001b[39m*\u001b[39;49mkwargs,\n\u001b[1;32m    488\u001b[0m         ),\n\u001b[1;32m    489\u001b[0m     }\n",
      "File \u001b[0;32m~/miniforge3/envs/llm-app/lib/python3.9/site-packages/langchain_core/runnables/base.py:3713\u001b[0m, in \u001b[0;36mRunnableParallel.invoke\u001b[0;34m(self, input, config)\u001b[0m\n\u001b[1;32m   3708\u001b[0m     \u001b[39mwith\u001b[39;00m get_executor_for_config(config) \u001b[39mas\u001b[39;00m executor:\n\u001b[1;32m   3709\u001b[0m         futures \u001b[39m=\u001b[39m [\n\u001b[1;32m   3710\u001b[0m             executor\u001b[39m.\u001b[39msubmit(_invoke_step, step, \u001b[39minput\u001b[39m, config, key)\n\u001b[1;32m   3711\u001b[0m             \u001b[39mfor\u001b[39;00m key, step \u001b[39min\u001b[39;00m steps\u001b[39m.\u001b[39mitems()\n\u001b[1;32m   3712\u001b[0m         ]\n\u001b[0;32m-> 3713\u001b[0m         output \u001b[39m=\u001b[39m {key: future\u001b[39m.\u001b[39mresult() \u001b[39mfor\u001b[39;00m key, future \u001b[39min\u001b[39;00m \u001b[39mzip\u001b[39m(steps, futures)}\n\u001b[1;32m   3714\u001b[0m \u001b[39m# finish the root run\u001b[39;00m\n\u001b[1;32m   3715\u001b[0m \u001b[39mexcept\u001b[39;00m \u001b[39mBaseException\u001b[39;00m \u001b[39mas\u001b[39;00m e:\n",
      "File \u001b[0;32m~/miniforge3/envs/llm-app/lib/python3.9/site-packages/langchain_core/runnables/base.py:3713\u001b[0m, in \u001b[0;36m<dictcomp>\u001b[0;34m(.0)\u001b[0m\n\u001b[1;32m   3708\u001b[0m     \u001b[39mwith\u001b[39;00m get_executor_for_config(config) \u001b[39mas\u001b[39;00m executor:\n\u001b[1;32m   3709\u001b[0m         futures \u001b[39m=\u001b[39m [\n\u001b[1;32m   3710\u001b[0m             executor\u001b[39m.\u001b[39msubmit(_invoke_step, step, \u001b[39minput\u001b[39m, config, key)\n\u001b[1;32m   3711\u001b[0m             \u001b[39mfor\u001b[39;00m key, step \u001b[39min\u001b[39;00m steps\u001b[39m.\u001b[39mitems()\n\u001b[1;32m   3712\u001b[0m         ]\n\u001b[0;32m-> 3713\u001b[0m         output \u001b[39m=\u001b[39m {key: future\u001b[39m.\u001b[39;49mresult() \u001b[39mfor\u001b[39;00m key, future \u001b[39min\u001b[39;00m \u001b[39mzip\u001b[39m(steps, futures)}\n\u001b[1;32m   3714\u001b[0m \u001b[39m# finish the root run\u001b[39;00m\n\u001b[1;32m   3715\u001b[0m \u001b[39mexcept\u001b[39;00m \u001b[39mBaseException\u001b[39;00m \u001b[39mas\u001b[39;00m e:\n",
      "File \u001b[0;32m~/miniforge3/envs/llm-app/lib/python3.9/concurrent/futures/_base.py:446\u001b[0m, in \u001b[0;36mFuture.result\u001b[0;34m(self, timeout)\u001b[0m\n\u001b[1;32m    444\u001b[0m     \u001b[39mraise\u001b[39;00m CancelledError()\n\u001b[1;32m    445\u001b[0m \u001b[39melif\u001b[39;00m \u001b[39mself\u001b[39m\u001b[39m.\u001b[39m_state \u001b[39m==\u001b[39m FINISHED:\n\u001b[0;32m--> 446\u001b[0m     \u001b[39mreturn\u001b[39;00m \u001b[39mself\u001b[39;49m\u001b[39m.\u001b[39;49m__get_result()\n\u001b[1;32m    447\u001b[0m \u001b[39melse\u001b[39;00m:\n\u001b[1;32m    448\u001b[0m     \u001b[39mraise\u001b[39;00m \u001b[39mTimeoutError\u001b[39;00m()\n",
      "File \u001b[0;32m~/miniforge3/envs/llm-app/lib/python3.9/concurrent/futures/_base.py:391\u001b[0m, in \u001b[0;36mFuture.__get_result\u001b[0;34m(self)\u001b[0m\n\u001b[1;32m    389\u001b[0m \u001b[39mif\u001b[39;00m \u001b[39mself\u001b[39m\u001b[39m.\u001b[39m_exception:\n\u001b[1;32m    390\u001b[0m     \u001b[39mtry\u001b[39;00m:\n\u001b[0;32m--> 391\u001b[0m         \u001b[39mraise\u001b[39;00m \u001b[39mself\u001b[39m\u001b[39m.\u001b[39m_exception\n\u001b[1;32m    392\u001b[0m     \u001b[39mfinally\u001b[39;00m:\n\u001b[1;32m    393\u001b[0m         \u001b[39m# Break a reference cycle with the exception in self._exception\u001b[39;00m\n\u001b[1;32m    394\u001b[0m         \u001b[39mself\u001b[39m \u001b[39m=\u001b[39m \u001b[39mNone\u001b[39;00m\n",
      "File \u001b[0;32m~/miniforge3/envs/llm-app/lib/python3.9/concurrent/futures/thread.py:58\u001b[0m, in \u001b[0;36m_WorkItem.run\u001b[0;34m(self)\u001b[0m\n\u001b[1;32m     55\u001b[0m     \u001b[39mreturn\u001b[39;00m\n\u001b[1;32m     57\u001b[0m \u001b[39mtry\u001b[39;00m:\n\u001b[0;32m---> 58\u001b[0m     result \u001b[39m=\u001b[39m \u001b[39mself\u001b[39;49m\u001b[39m.\u001b[39;49mfn(\u001b[39m*\u001b[39;49m\u001b[39mself\u001b[39;49m\u001b[39m.\u001b[39;49margs, \u001b[39m*\u001b[39;49m\u001b[39m*\u001b[39;49m\u001b[39mself\u001b[39;49m\u001b[39m.\u001b[39;49mkwargs)\n\u001b[1;32m     59\u001b[0m \u001b[39mexcept\u001b[39;00m \u001b[39mBaseException\u001b[39;00m \u001b[39mas\u001b[39;00m exc:\n\u001b[1;32m     60\u001b[0m     \u001b[39mself\u001b[39m\u001b[39m.\u001b[39mfuture\u001b[39m.\u001b[39mset_exception(exc)\n",
      "File \u001b[0;32m~/miniforge3/envs/llm-app/lib/python3.9/site-packages/langchain_core/runnables/base.py:3697\u001b[0m, in \u001b[0;36mRunnableParallel.invoke.<locals>._invoke_step\u001b[0;34m(step, input, config, key)\u001b[0m\n\u001b[1;32m   3695\u001b[0m context \u001b[39m=\u001b[39m copy_context()\n\u001b[1;32m   3696\u001b[0m context\u001b[39m.\u001b[39mrun(_set_config_context, child_config)\n\u001b[0;32m-> 3697\u001b[0m \u001b[39mreturn\u001b[39;00m context\u001b[39m.\u001b[39;49mrun(\n\u001b[1;32m   3698\u001b[0m     step\u001b[39m.\u001b[39;49minvoke,\n\u001b[1;32m   3699\u001b[0m     \u001b[39minput\u001b[39;49m,\n\u001b[1;32m   3700\u001b[0m     child_config,\n\u001b[1;32m   3701\u001b[0m )\n",
      "File \u001b[0;32m~/miniforge3/envs/llm-app/lib/python3.9/site-packages/langchain_core/runnables/base.py:5313\u001b[0m, in \u001b[0;36mRunnableBindingBase.invoke\u001b[0;34m(self, input, config, **kwargs)\u001b[0m\n\u001b[1;32m   5307\u001b[0m \u001b[39mdef\u001b[39;00m \u001b[39minvoke\u001b[39m(\n\u001b[1;32m   5308\u001b[0m     \u001b[39mself\u001b[39m,\n\u001b[1;32m   5309\u001b[0m     \u001b[39minput\u001b[39m: Input,\n\u001b[1;32m   5310\u001b[0m     config: Optional[RunnableConfig] \u001b[39m=\u001b[39m \u001b[39mNone\u001b[39;00m,\n\u001b[1;32m   5311\u001b[0m     \u001b[39m*\u001b[39m\u001b[39m*\u001b[39mkwargs: Optional[Any],\n\u001b[1;32m   5312\u001b[0m ) \u001b[39m-\u001b[39m\u001b[39m>\u001b[39m Output:\n\u001b[0;32m-> 5313\u001b[0m     \u001b[39mreturn\u001b[39;00m \u001b[39mself\u001b[39;49m\u001b[39m.\u001b[39;49mbound\u001b[39m.\u001b[39;49minvoke(\n\u001b[1;32m   5314\u001b[0m         \u001b[39minput\u001b[39;49m,\n\u001b[1;32m   5315\u001b[0m         \u001b[39mself\u001b[39;49m\u001b[39m.\u001b[39;49m_merge_configs(config),\n\u001b[1;32m   5316\u001b[0m         \u001b[39m*\u001b[39;49m\u001b[39m*\u001b[39;49m{\u001b[39m*\u001b[39;49m\u001b[39m*\u001b[39;49m\u001b[39mself\u001b[39;49m\u001b[39m.\u001b[39;49mkwargs, \u001b[39m*\u001b[39;49m\u001b[39m*\u001b[39;49mkwargs},\n\u001b[1;32m   5317\u001b[0m     )\n",
      "File \u001b[0;32m~/miniforge3/envs/llm-app/lib/python3.9/site-packages/langchain_core/runnables/base.py:3013\u001b[0m, in \u001b[0;36mRunnableSequence.invoke\u001b[0;34m(self, input, config, **kwargs)\u001b[0m\n\u001b[1;32m   3011\u001b[0m             \u001b[39minput\u001b[39m \u001b[39m=\u001b[39m context\u001b[39m.\u001b[39mrun(step\u001b[39m.\u001b[39minvoke, \u001b[39minput\u001b[39m, config, \u001b[39m*\u001b[39m\u001b[39m*\u001b[39mkwargs)\n\u001b[1;32m   3012\u001b[0m         \u001b[39melse\u001b[39;00m:\n\u001b[0;32m-> 3013\u001b[0m             \u001b[39minput\u001b[39m \u001b[39m=\u001b[39m context\u001b[39m.\u001b[39;49mrun(step\u001b[39m.\u001b[39;49minvoke, \u001b[39minput\u001b[39;49m, config)\n\u001b[1;32m   3014\u001b[0m \u001b[39m# finish the root run\u001b[39;00m\n\u001b[1;32m   3015\u001b[0m \u001b[39mexcept\u001b[39;00m \u001b[39mBaseException\u001b[39;00m \u001b[39mas\u001b[39;00m e:\n",
      "File \u001b[0;32m~/miniforge3/envs/llm-app/lib/python3.9/site-packages/langchain_core/language_models/chat_models.py:286\u001b[0m, in \u001b[0;36mBaseChatModel.invoke\u001b[0;34m(self, input, config, stop, **kwargs)\u001b[0m\n\u001b[1;32m    275\u001b[0m \u001b[39mdef\u001b[39;00m \u001b[39minvoke\u001b[39m(\n\u001b[1;32m    276\u001b[0m     \u001b[39mself\u001b[39m,\n\u001b[1;32m    277\u001b[0m     \u001b[39minput\u001b[39m: LanguageModelInput,\n\u001b[0;32m   (...)\u001b[0m\n\u001b[1;32m    281\u001b[0m     \u001b[39m*\u001b[39m\u001b[39m*\u001b[39mkwargs: Any,\n\u001b[1;32m    282\u001b[0m ) \u001b[39m-\u001b[39m\u001b[39m>\u001b[39m BaseMessage:\n\u001b[1;32m    283\u001b[0m     config \u001b[39m=\u001b[39m ensure_config(config)\n\u001b[1;32m    284\u001b[0m     \u001b[39mreturn\u001b[39;00m cast(\n\u001b[1;32m    285\u001b[0m         ChatGeneration,\n\u001b[0;32m--> 286\u001b[0m         \u001b[39mself\u001b[39;49m\u001b[39m.\u001b[39;49mgenerate_prompt(\n\u001b[1;32m    287\u001b[0m             [\u001b[39mself\u001b[39;49m\u001b[39m.\u001b[39;49m_convert_input(\u001b[39minput\u001b[39;49m)],\n\u001b[1;32m    288\u001b[0m             stop\u001b[39m=\u001b[39;49mstop,\n\u001b[1;32m    289\u001b[0m             callbacks\u001b[39m=\u001b[39;49mconfig\u001b[39m.\u001b[39;49mget(\u001b[39m\"\u001b[39;49m\u001b[39mcallbacks\u001b[39;49m\u001b[39m\"\u001b[39;49m),\n\u001b[1;32m    290\u001b[0m             tags\u001b[39m=\u001b[39;49mconfig\u001b[39m.\u001b[39;49mget(\u001b[39m\"\u001b[39;49m\u001b[39mtags\u001b[39;49m\u001b[39m\"\u001b[39;49m),\n\u001b[1;32m    291\u001b[0m             metadata\u001b[39m=\u001b[39;49mconfig\u001b[39m.\u001b[39;49mget(\u001b[39m\"\u001b[39;49m\u001b[39mmetadata\u001b[39;49m\u001b[39m\"\u001b[39;49m),\n\u001b[1;32m    292\u001b[0m             run_name\u001b[39m=\u001b[39;49mconfig\u001b[39m.\u001b[39;49mget(\u001b[39m\"\u001b[39;49m\u001b[39mrun_name\u001b[39;49m\u001b[39m\"\u001b[39;49m),\n\u001b[1;32m    293\u001b[0m             run_id\u001b[39m=\u001b[39;49mconfig\u001b[39m.\u001b[39;49mpop(\u001b[39m\"\u001b[39;49m\u001b[39mrun_id\u001b[39;49m\u001b[39m\"\u001b[39;49m, \u001b[39mNone\u001b[39;49;00m),\n\u001b[1;32m    294\u001b[0m             \u001b[39m*\u001b[39;49m\u001b[39m*\u001b[39;49mkwargs,\n\u001b[1;32m    295\u001b[0m         )\u001b[39m.\u001b[39mgenerations[\u001b[39m0\u001b[39m][\u001b[39m0\u001b[39m],\n\u001b[1;32m    296\u001b[0m     )\u001b[39m.\u001b[39mmessage\n",
      "File \u001b[0;32m~/miniforge3/envs/llm-app/lib/python3.9/site-packages/langchain_core/language_models/chat_models.py:786\u001b[0m, in \u001b[0;36mBaseChatModel.generate_prompt\u001b[0;34m(self, prompts, stop, callbacks, **kwargs)\u001b[0m\n\u001b[1;32m    778\u001b[0m \u001b[39mdef\u001b[39;00m \u001b[39mgenerate_prompt\u001b[39m(\n\u001b[1;32m    779\u001b[0m     \u001b[39mself\u001b[39m,\n\u001b[1;32m    780\u001b[0m     prompts: List[PromptValue],\n\u001b[0;32m   (...)\u001b[0m\n\u001b[1;32m    783\u001b[0m     \u001b[39m*\u001b[39m\u001b[39m*\u001b[39mkwargs: Any,\n\u001b[1;32m    784\u001b[0m ) \u001b[39m-\u001b[39m\u001b[39m>\u001b[39m LLMResult:\n\u001b[1;32m    785\u001b[0m     prompt_messages \u001b[39m=\u001b[39m [p\u001b[39m.\u001b[39mto_messages() \u001b[39mfor\u001b[39;00m p \u001b[39min\u001b[39;00m prompts]\n\u001b[0;32m--> 786\u001b[0m     \u001b[39mreturn\u001b[39;00m \u001b[39mself\u001b[39;49m\u001b[39m.\u001b[39;49mgenerate(prompt_messages, stop\u001b[39m=\u001b[39;49mstop, callbacks\u001b[39m=\u001b[39;49mcallbacks, \u001b[39m*\u001b[39;49m\u001b[39m*\u001b[39;49mkwargs)\n",
      "File \u001b[0;32m~/miniforge3/envs/llm-app/lib/python3.9/site-packages/langchain_core/language_models/chat_models.py:643\u001b[0m, in \u001b[0;36mBaseChatModel.generate\u001b[0;34m(self, messages, stop, callbacks, tags, metadata, run_name, run_id, **kwargs)\u001b[0m\n\u001b[1;32m    641\u001b[0m         \u001b[39mif\u001b[39;00m run_managers:\n\u001b[1;32m    642\u001b[0m             run_managers[i]\u001b[39m.\u001b[39mon_llm_error(e, response\u001b[39m=\u001b[39mLLMResult(generations\u001b[39m=\u001b[39m[]))\n\u001b[0;32m--> 643\u001b[0m         \u001b[39mraise\u001b[39;00m e\n\u001b[1;32m    644\u001b[0m flattened_outputs \u001b[39m=\u001b[39m [\n\u001b[1;32m    645\u001b[0m     LLMResult(generations\u001b[39m=\u001b[39m[res\u001b[39m.\u001b[39mgenerations], llm_output\u001b[39m=\u001b[39mres\u001b[39m.\u001b[39mllm_output)  \u001b[39m# type: ignore[list-item]\u001b[39;00m\n\u001b[1;32m    646\u001b[0m     \u001b[39mfor\u001b[39;00m res \u001b[39min\u001b[39;00m results\n\u001b[1;32m    647\u001b[0m ]\n\u001b[1;32m    648\u001b[0m llm_output \u001b[39m=\u001b[39m \u001b[39mself\u001b[39m\u001b[39m.\u001b[39m_combine_llm_outputs([res\u001b[39m.\u001b[39mllm_output \u001b[39mfor\u001b[39;00m res \u001b[39min\u001b[39;00m results])\n",
      "File \u001b[0;32m~/miniforge3/envs/llm-app/lib/python3.9/site-packages/langchain_core/language_models/chat_models.py:633\u001b[0m, in \u001b[0;36mBaseChatModel.generate\u001b[0;34m(self, messages, stop, callbacks, tags, metadata, run_name, run_id, **kwargs)\u001b[0m\n\u001b[1;32m    630\u001b[0m \u001b[39mfor\u001b[39;00m i, m \u001b[39min\u001b[39;00m \u001b[39menumerate\u001b[39m(messages):\n\u001b[1;32m    631\u001b[0m     \u001b[39mtry\u001b[39;00m:\n\u001b[1;32m    632\u001b[0m         results\u001b[39m.\u001b[39mappend(\n\u001b[0;32m--> 633\u001b[0m             \u001b[39mself\u001b[39;49m\u001b[39m.\u001b[39;49m_generate_with_cache(\n\u001b[1;32m    634\u001b[0m                 m,\n\u001b[1;32m    635\u001b[0m                 stop\u001b[39m=\u001b[39;49mstop,\n\u001b[1;32m    636\u001b[0m                 run_manager\u001b[39m=\u001b[39;49mrun_managers[i] \u001b[39mif\u001b[39;49;00m run_managers \u001b[39melse\u001b[39;49;00m \u001b[39mNone\u001b[39;49;00m,\n\u001b[1;32m    637\u001b[0m                 \u001b[39m*\u001b[39;49m\u001b[39m*\u001b[39;49mkwargs,\n\u001b[1;32m    638\u001b[0m             )\n\u001b[1;32m    639\u001b[0m         )\n\u001b[1;32m    640\u001b[0m     \u001b[39mexcept\u001b[39;00m \u001b[39mBaseException\u001b[39;00m \u001b[39mas\u001b[39;00m e:\n\u001b[1;32m    641\u001b[0m         \u001b[39mif\u001b[39;00m run_managers:\n",
      "File \u001b[0;32m~/miniforge3/envs/llm-app/lib/python3.9/site-packages/langchain_core/language_models/chat_models.py:855\u001b[0m, in \u001b[0;36mBaseChatModel._generate_with_cache\u001b[0;34m(self, messages, stop, run_manager, **kwargs)\u001b[0m\n\u001b[1;32m    853\u001b[0m \u001b[39melse\u001b[39;00m:\n\u001b[1;32m    854\u001b[0m     \u001b[39mif\u001b[39;00m inspect\u001b[39m.\u001b[39msignature(\u001b[39mself\u001b[39m\u001b[39m.\u001b[39m_generate)\u001b[39m.\u001b[39mparameters\u001b[39m.\u001b[39mget(\u001b[39m\"\u001b[39m\u001b[39mrun_manager\u001b[39m\u001b[39m\"\u001b[39m):\n\u001b[0;32m--> 855\u001b[0m         result \u001b[39m=\u001b[39m \u001b[39mself\u001b[39;49m\u001b[39m.\u001b[39;49m_generate(\n\u001b[1;32m    856\u001b[0m             messages, stop\u001b[39m=\u001b[39;49mstop, run_manager\u001b[39m=\u001b[39;49mrun_manager, \u001b[39m*\u001b[39;49m\u001b[39m*\u001b[39;49mkwargs\n\u001b[1;32m    857\u001b[0m         )\n\u001b[1;32m    858\u001b[0m     \u001b[39melse\u001b[39;00m:\n\u001b[1;32m    859\u001b[0m         result \u001b[39m=\u001b[39m \u001b[39mself\u001b[39m\u001b[39m.\u001b[39m_generate(messages, stop\u001b[39m=\u001b[39mstop, \u001b[39m*\u001b[39m\u001b[39m*\u001b[39mkwargs)\n",
      "File \u001b[0;32m~/miniforge3/envs/llm-app/lib/python3.9/site-packages/langchain_ollama/chat_models.py:644\u001b[0m, in \u001b[0;36mChatOllama._generate\u001b[0;34m(self, messages, stop, run_manager, **kwargs)\u001b[0m\n\u001b[1;32m    637\u001b[0m \u001b[39mdef\u001b[39;00m \u001b[39m_generate\u001b[39m(\n\u001b[1;32m    638\u001b[0m     \u001b[39mself\u001b[39m,\n\u001b[1;32m    639\u001b[0m     messages: List[BaseMessage],\n\u001b[0;32m   (...)\u001b[0m\n\u001b[1;32m    642\u001b[0m     \u001b[39m*\u001b[39m\u001b[39m*\u001b[39mkwargs: Any,\n\u001b[1;32m    643\u001b[0m ) \u001b[39m-\u001b[39m\u001b[39m>\u001b[39m ChatResult:\n\u001b[0;32m--> 644\u001b[0m     final_chunk \u001b[39m=\u001b[39m \u001b[39mself\u001b[39;49m\u001b[39m.\u001b[39;49m_chat_stream_with_aggregation(\n\u001b[1;32m    645\u001b[0m         messages, stop, run_manager, verbose\u001b[39m=\u001b[39;49m\u001b[39mself\u001b[39;49m\u001b[39m.\u001b[39;49mverbose, \u001b[39m*\u001b[39;49m\u001b[39m*\u001b[39;49mkwargs\n\u001b[1;32m    646\u001b[0m     )\n\u001b[1;32m    647\u001b[0m     generation_info \u001b[39m=\u001b[39m final_chunk\u001b[39m.\u001b[39mgeneration_info\n\u001b[1;32m    648\u001b[0m     chat_generation \u001b[39m=\u001b[39m ChatGeneration(\n\u001b[1;32m    649\u001b[0m         message\u001b[39m=\u001b[39mAIMessage(\n\u001b[1;32m    650\u001b[0m             content\u001b[39m=\u001b[39mfinal_chunk\u001b[39m.\u001b[39mtext,\n\u001b[0;32m   (...)\u001b[0m\n\u001b[1;32m    654\u001b[0m         generation_info\u001b[39m=\u001b[39mgeneration_info,\n\u001b[1;32m    655\u001b[0m     )\n",
      "File \u001b[0;32m~/miniforge3/envs/llm-app/lib/python3.9/site-packages/langchain_ollama/chat_models.py:545\u001b[0m, in \u001b[0;36mChatOllama._chat_stream_with_aggregation\u001b[0;34m(self, messages, stop, run_manager, verbose, **kwargs)\u001b[0m\n\u001b[1;32m    536\u001b[0m \u001b[39mdef\u001b[39;00m \u001b[39m_chat_stream_with_aggregation\u001b[39m(\n\u001b[1;32m    537\u001b[0m     \u001b[39mself\u001b[39m,\n\u001b[1;32m    538\u001b[0m     messages: List[BaseMessage],\n\u001b[0;32m   (...)\u001b[0m\n\u001b[1;32m    542\u001b[0m     \u001b[39m*\u001b[39m\u001b[39m*\u001b[39mkwargs: Any,\n\u001b[1;32m    543\u001b[0m ) \u001b[39m-\u001b[39m\u001b[39m>\u001b[39m ChatGenerationChunk:\n\u001b[1;32m    544\u001b[0m     final_chunk \u001b[39m=\u001b[39m \u001b[39mNone\u001b[39;00m\n\u001b[0;32m--> 545\u001b[0m     \u001b[39mfor\u001b[39;00m stream_resp \u001b[39min\u001b[39;00m \u001b[39mself\u001b[39m\u001b[39m.\u001b[39m_create_chat_stream(messages, stop, \u001b[39m*\u001b[39m\u001b[39m*\u001b[39mkwargs):\n\u001b[1;32m    546\u001b[0m         \u001b[39mif\u001b[39;00m \u001b[39mnot\u001b[39;00m \u001b[39misinstance\u001b[39m(stream_resp, \u001b[39mstr\u001b[39m):\n\u001b[1;32m    547\u001b[0m             chunk \u001b[39m=\u001b[39m ChatGenerationChunk(\n\u001b[1;32m    548\u001b[0m                 message\u001b[39m=\u001b[39mAIMessageChunk(\n\u001b[1;32m    549\u001b[0m                     content\u001b[39m=\u001b[39m(\n\u001b[0;32m   (...)\u001b[0m\n\u001b[1;32m    562\u001b[0m                 ),\n\u001b[1;32m    563\u001b[0m             )\n",
      "File \u001b[0;32m~/miniforge3/envs/llm-app/lib/python3.9/site-packages/langchain_ollama/chat_models.py:527\u001b[0m, in \u001b[0;36mChatOllama._create_chat_stream\u001b[0;34m(self, messages, stop, **kwargs)\u001b[0m\n\u001b[1;32m    517\u001b[0m     \u001b[39myield\u001b[39;00m \u001b[39mself\u001b[39m\u001b[39m.\u001b[39m_client\u001b[39m.\u001b[39mchat(\n\u001b[1;32m    518\u001b[0m         model\u001b[39m=\u001b[39mparams[\u001b[39m\"\u001b[39m\u001b[39mmodel\u001b[39m\u001b[39m\"\u001b[39m],\n\u001b[1;32m    519\u001b[0m         messages\u001b[39m=\u001b[39mollama_messages,\n\u001b[0;32m   (...)\u001b[0m\n\u001b[1;32m    524\u001b[0m         tools\u001b[39m=\u001b[39mkwargs[\u001b[39m\"\u001b[39m\u001b[39mtools\u001b[39m\u001b[39m\"\u001b[39m],\n\u001b[1;32m    525\u001b[0m     )\n\u001b[1;32m    526\u001b[0m \u001b[39melse\u001b[39;00m:\n\u001b[0;32m--> 527\u001b[0m     \u001b[39myield from\u001b[39;00m \u001b[39mself\u001b[39m\u001b[39m.\u001b[39m_client\u001b[39m.\u001b[39mchat(\n\u001b[1;32m    528\u001b[0m         model\u001b[39m=\u001b[39mparams[\u001b[39m\"\u001b[39m\u001b[39mmodel\u001b[39m\u001b[39m\"\u001b[39m],\n\u001b[1;32m    529\u001b[0m         messages\u001b[39m=\u001b[39mollama_messages,\n\u001b[1;32m    530\u001b[0m         stream\u001b[39m=\u001b[39m\u001b[39mTrue\u001b[39;00m,\n\u001b[1;32m    531\u001b[0m         options\u001b[39m=\u001b[39mOptions(\u001b[39m*\u001b[39m\u001b[39m*\u001b[39mparams[\u001b[39m\"\u001b[39m\u001b[39moptions\u001b[39m\u001b[39m\"\u001b[39m]),\n\u001b[1;32m    532\u001b[0m         keep_alive\u001b[39m=\u001b[39mparams[\u001b[39m\"\u001b[39m\u001b[39mkeep_alive\u001b[39m\u001b[39m\"\u001b[39m],\n\u001b[1;32m    533\u001b[0m         \u001b[39mformat\u001b[39m\u001b[39m=\u001b[39mparams[\u001b[39m\"\u001b[39m\u001b[39mformat\u001b[39m\u001b[39m\"\u001b[39m],\n\u001b[1;32m    534\u001b[0m     )\n",
      "File \u001b[0;32m~/miniforge3/envs/llm-app/lib/python3.9/site-packages/ollama/_client.py:90\u001b[0m, in \u001b[0;36mClient._stream\u001b[0;34m(self, method, url, **kwargs)\u001b[0m\n\u001b[1;32m     88\u001b[0m partial \u001b[39m=\u001b[39m json\u001b[39m.\u001b[39mloads(line)\n\u001b[1;32m     89\u001b[0m \u001b[39mif\u001b[39;00m e \u001b[39m:=\u001b[39m partial\u001b[39m.\u001b[39mget(\u001b[39m'\u001b[39m\u001b[39merror\u001b[39m\u001b[39m'\u001b[39m):\n\u001b[0;32m---> 90\u001b[0m   \u001b[39mraise\u001b[39;00m ResponseError(e)\n\u001b[1;32m     91\u001b[0m \u001b[39myield\u001b[39;00m partial\n",
      "\u001b[0;31mResponseError\u001b[0m: an unknown error was encountered while running the model "
     ]
    }
   ],
   "source": [
    "chat_bot.get_response('What is partitioning?', session_id=session_id)"
   ]
  },
  {
   "cell_type": "code",
   "execution_count": null,
   "metadata": {},
   "outputs": [
    {
     "data": {
      "text/plain": [
       "{'input': 'Can you repeat the answer as structured list?',\n",
       " 'chat_history': [HumanMessage(content='What is partitioning?', additional_kwargs={}, response_metadata={}),\n",
       "  AIMessage(content=' Partitioning refers to dividing a large dataset into smaller parts, each of which belongs to exactly one partition. This process helps in scaling by allowing data to be distributed across multiple nodes in a shared-nothing cluster, making it easier for the database system to handle more data and operations simultaneously.', additional_kwargs={}, response_metadata={})],\n",
       " 'context': [Document(metadata={'page': 220, 'source': '/Users/stolli/IT/Designing Data-Intensive Applications.pdf'}, page_content='Terminological confusion\\nWhat we call a partition  here is called a shard  in MongoDB, Elas‐\\nticsearch, and SolrCloud; it’s known as a region  in HBase, a tablet\\nin Bigtable, a vnode  in Cassandra and Riak, and a vBucket  in\\nCouchbase. However, partitioning  is the most established term, so\\nwe’ll stick with that.\\nNormally, partitions are defined in such a way that each piece of data (each record,\\nrow, or document) belongs to exactly one partition. There are various ways of achiev‐\\ning this, which we discuss in depth in this chapter. In effect, each partition is a small\\ndatabase of its own, although the database may support operations that touch multi‐\\nple partitions at the same time.\\nThe main reason for wanting to partition data is scalability . Different partitions can\\nbe placed on different nodes in a shared-nothing cluster (see the introduction to\\n199'),\n",
       "  Document(metadata={'page': 220, 'source': '/Users/stolli/IT/Designing Data-Intensive Applications.pdf'}, page_content='Terminological confusion\\nWhat we call a partition  here is called a shard  in MongoDB, Elas‐\\nticsearch, and SolrCloud; it’s known as a region  in HBase, a tablet\\nin Bigtable, a vnode  in Cassandra and Riak, and a vBucket  in\\nCouchbase. However, partitioning  is the most established term, so\\nwe’ll stick with that.\\nNormally, partitions are defined in such a way that each piece of data (each record,\\nrow, or document) belongs to exactly one partition. There are various ways of achiev‐\\ning this, which we discuss in depth in this chapter. In effect, each partition is a small\\ndatabase of its own, although the database may support operations that touch multi‐\\nple partitions at the same time.\\nThe main reason for wanting to partition data is scalability . Different partitions can\\nbe placed on different nodes in a shared-nothing cluster (see the introduction to\\n199'),\n",
       "  Document(metadata={'page': 220, 'source': '/Users/stolli/IT/Designing Data-Intensive Applications.pdf'}, page_content='Terminological confusion\\nWhat we call a partition  here is called a shard  in MongoDB, Elas‐\\nticsearch, and SolrCloud; it’s known as a region  in HBase, a tablet\\nin Bigtable, a vnode  in Cassandra and Riak, and a vBucket  in\\nCouchbase. However, partitioning  is the most established term, so\\nwe’ll stick with that.\\nNormally, partitions are defined in such a way that each piece of data (each record,\\nrow, or document) belongs to exactly one partition. There are various ways of achiev‐\\ning this, which we discuss in depth in this chapter. In effect, each partition is a small\\ndatabase of its own, although the database may support operations that touch multi‐\\nple partitions at the same time.\\nThe main reason for wanting to partition data is scalability . Different partitions can\\nbe placed on different nodes in a shared-nothing cluster (see the introduction to\\n199'),\n",
       "  Document(metadata={'page': 220, 'source': '/Users/stolli/IT/Designing Data-Intensive Applications.pdf'}, page_content='Terminological confusion\\nWhat we call a partition  here is called a shard  in MongoDB, Elas‐\\nticsearch, and SolrCloud; it’s known as a region  in HBase, a tablet\\nin Bigtable, a vnode  in Cassandra and Riak, and a vBucket  in\\nCouchbase. However, partitioning  is the most established term, so\\nwe’ll stick with that.\\nNormally, partitions are defined in such a way that each piece of data (each record,\\nrow, or document) belongs to exactly one partition. There are various ways of achiev‐\\ning this, which we discuss in depth in this chapter. In effect, each partition is a small\\ndatabase of its own, although the database may support operations that touch multi‐\\nple partitions at the same time.\\nThe main reason for wanting to partition data is scalability . Different partitions can\\nbe placed on different nodes in a shared-nothing cluster (see the introduction to\\n199')],\n",
       " 'answer': ' Sure, here is the information as a structured list:\\n\\n1. **Definition**: Partitioning involves dividing a large dataset into smaller parts where each piece of data belongs to exactly one partition.\\n2. **Purpose**: The main reason for partitioning data is scalability.\\n3. **Distribution**: Different partitions can be placed on different nodes in a shared-nothing cluster, allowing the database system to handle more data and operations efficiently.'}"
      ]
     },
     "execution_count": 7,
     "metadata": {},
     "output_type": "execute_result"
    }
   ],
   "source": [
    "chat_bot.get_response('Can you repeat the answer as structured list?', session_id=session_id)"
   ]
  },
  {
   "cell_type": "code",
   "execution_count": null,
   "metadata": {},
   "outputs": [],
   "source": [
    "def load_pdf_data(file_path, use_splitter=True):\n",
    "    loader = PyPDFLoader(file_path)\n",
    "    if use_splitter:\n",
    "        text_splitter = RecursiveCharacterTextSplitter(chunk_size=1000, chunk_overlap=200)\n",
    "        return loader.load_and_split(text_splitter)\n",
    "    else:\n",
    "        return loader.load()\n"
   ]
  },
  {
   "cell_type": "code",
   "execution_count": null,
   "metadata": {},
   "outputs": [
    {
     "name": "stderr",
     "output_type": "stream",
     "text": [
      "incorrect startxref pointer(1)\n",
      "parsing for Object Streams\n"
     ]
    }
   ],
   "source": [
    "pdf_data = load_pdf_data(\"/Users/stolli/IT/Designing Data-Intensive Applications.pdf\")"
   ]
  },
  {
   "cell_type": "code",
   "execution_count": null,
   "metadata": {},
   "outputs": [],
   "source": [
    "vectorstore = Chroma.from_documents(pdf_data, embedding=embedding_model, persist_directory='chroma_db')"
   ]
  },
  {
   "cell_type": "code",
   "execution_count": null,
   "metadata": {},
   "outputs": [],
   "source": [
    "# vectorstore.similarity_search_with_score(\"What is partitioning?\", 5)"
   ]
  },
  {
   "cell_type": "code",
   "execution_count": null,
   "metadata": {},
   "outputs": [],
   "source": [
    "def create_rag_chain(vectorstore, llm):\n",
    "    retriever = vectorstore.as_retriever()\n",
    "    contextualize_q_system_prompt = (\n",
    "        \"Given a chat history and the latest user question \"\n",
    "        \"which might reference context in the chat history, \"\n",
    "        \"formulate a standalone question which can be understood \"\n",
    "        \"without the chat history. Do NOT answer the question, \"\n",
    "        \"just reformulate it if needed and otherwise return it as is.\"\n",
    "    )\n",
    "    contextualize_q_prompt = ChatPromptTemplate.from_messages(\n",
    "        [\n",
    "            (\"system\", contextualize_q_system_prompt),\n",
    "            MessagesPlaceholder(\"chat_history\"),\n",
    "            (\"human\", \"{input}\"),\n",
    "        ]\n",
    "    )\n",
    "    history_aware_retriever = create_history_aware_retriever(\n",
    "        llm, retriever, contextualize_q_prompt\n",
    "    )\n",
    "\n",
    "    system_prompt = \"\"\"You are an assistant for question-answering tasks. \n",
    "        Use the chat history and the following pieces of retrieved context to answer the question. \n",
    "        If you don't know the answer, just say that you don't know, don't try to make up an answer.\n",
    "        If you find the answer, write the answer in a concise way. \n",
    "        Context: {context}\"\"\"\n",
    "    prompt = ChatPromptTemplate.from_messages(\n",
    "        [\n",
    "            (\"system\", system_prompt),\n",
    "            MessagesPlaceholder(\"chat_history\"),\n",
    "            (\"human\", \"{input}\"),\n",
    "        ]\n",
    "    )\n",
    "    question_answer_chain = create_stuff_documents_chain(llm, prompt)\n",
    "\n",
    "    rag_chain = create_retrieval_chain(history_aware_retriever, question_answer_chain)\n",
    "\n",
    "    # manage chat history\n",
    "    store = {}\n",
    "    def get_session_history(session_id: str) -> BaseChatMessageHistory:\n",
    "        if session_id not in store:\n",
    "            store[session_id] = ChatMessageHistory()\n",
    "        return store[session_id]\n",
    "\n",
    "    return RunnableWithMessageHistory(\n",
    "        rag_chain,\n",
    "        get_session_history,\n",
    "        input_messages_key=\"input\",\n",
    "        history_messages_key=\"chat_history\",\n",
    "        output_messages_key=\"answer\",\n",
    "    )"
   ]
  },
  {
   "cell_type": "code",
   "execution_count": null,
   "metadata": {},
   "outputs": [],
   "source": [
    "rag_chain = create_rag_chain(vectorstore, llm)"
   ]
  },
  {
   "cell_type": "code",
   "execution_count": null,
   "metadata": {},
   "outputs": [
    {
     "data": {
      "text/plain": [
       "{'input': 'What is partitioning?',\n",
       " 'chat_history': [],\n",
       " 'context': [Document(metadata={'page': 220, 'source': '/Users/stolli/IT/Designing Data-Intensive Applications.pdf'}, page_content='Terminological confusion\\nWhat we call a partition  here is called a shard  in MongoDB, Elas‐\\nticsearch, and SolrCloud; it’s known as a region  in HBase, a tablet\\nin Bigtable, a vnode  in Cassandra and Riak, and a vBucket  in\\nCouchbase. However, partitioning  is the most established term, so\\nwe’ll stick with that.\\nNormally, partitions are defined in such a way that each piece of data (each record,\\nrow, or document) belongs to exactly one partition. There are various ways of achiev‐\\ning this, which we discuss in depth in this chapter. In effect, each partition is a small\\ndatabase of its own, although the database may support operations that touch multi‐\\nple partitions at the same time.\\nThe main reason for wanting to partition data is scalability . Different partitions can\\nbe placed on different nodes in a shared-nothing cluster (see the introduction to\\n199'),\n",
       "  Document(metadata={'page': 220, 'source': '/Users/stolli/IT/Designing Data-Intensive Applications.pdf'}, page_content='Terminological confusion\\nWhat we call a partition  here is called a shard  in MongoDB, Elas‐\\nticsearch, and SolrCloud; it’s known as a region  in HBase, a tablet\\nin Bigtable, a vnode  in Cassandra and Riak, and a vBucket  in\\nCouchbase. However, partitioning  is the most established term, so\\nwe’ll stick with that.\\nNormally, partitions are defined in such a way that each piece of data (each record,\\nrow, or document) belongs to exactly one partition. There are various ways of achiev‐\\ning this, which we discuss in depth in this chapter. In effect, each partition is a small\\ndatabase of its own, although the database may support operations that touch multi‐\\nple partitions at the same time.\\nThe main reason for wanting to partition data is scalability . Different partitions can\\nbe placed on different nodes in a shared-nothing cluster (see the introduction to\\n199'),\n",
       "  Document(metadata={'page': 220, 'source': '/Users/stolli/IT/Designing Data-Intensive Applications.pdf'}, page_content='Terminological confusion\\nWhat we call a partition  here is called a shard  in MongoDB, Elas‐\\nticsearch, and SolrCloud; it’s known as a region  in HBase, a tablet\\nin Bigtable, a vnode  in Cassandra and Riak, and a vBucket  in\\nCouchbase. However, partitioning  is the most established term, so\\nwe’ll stick with that.\\nNormally, partitions are defined in such a way that each piece of data (each record,\\nrow, or document) belongs to exactly one partition. There are various ways of achiev‐\\ning this, which we discuss in depth in this chapter. In effect, each partition is a small\\ndatabase of its own, although the database may support operations that touch multi‐\\nple partitions at the same time.\\nThe main reason for wanting to partition data is scalability . Different partitions can\\nbe placed on different nodes in a shared-nothing cluster (see the introduction to\\n199'),\n",
       "  Document(metadata={'page': 220, 'source': '/Users/stolli/IT/Designing Data-Intensive Applications.pdf'}, page_content='Terminological confusion\\nWhat we call a partition  here is called a shard  in MongoDB, Elas‐\\nticsearch, and SolrCloud; it’s known as a region  in HBase, a tablet\\nin Bigtable, a vnode  in Cassandra and Riak, and a vBucket  in\\nCouchbase. However, partitioning  is the most established term, so\\nwe’ll stick with that.\\nNormally, partitions are defined in such a way that each piece of data (each record,\\nrow, or document) belongs to exactly one partition. There are various ways of achiev‐\\ning this, which we discuss in depth in this chapter. In effect, each partition is a small\\ndatabase of its own, although the database may support operations that touch multi‐\\nple partitions at the same time.\\nThe main reason for wanting to partition data is scalability . Different partitions can\\nbe placed on different nodes in a shared-nothing cluster (see the introduction to\\n199')],\n",
       " 'answer': ' Partitioning refers to dividing a large dataset into smaller parts, called partitions, each of which resides on a separate node or storage unit within a shared-nothing cluster. This allows for scalability and better performance by distributing data across multiple nodes. Each partition acts like a small database, although it can also handle operations that involve multiple partitions simultaneously.'}"
      ]
     },
     "execution_count": 14,
     "metadata": {},
     "output_type": "execute_result"
    }
   ],
   "source": [
    "rag_chain.invoke(\n",
    "    {\"input\": \"What is partitioning?\"},\n",
    "    config={\n",
    "        \"configurable\": {\"session_id\": \"abc123\"}\n",
    "    }\n",
    ")"
   ]
  },
  {
   "cell_type": "code",
   "execution_count": null,
   "metadata": {},
   "outputs": [
    {
     "data": {
      "text/plain": [
       "{'input': 'Can you repeat your answer as structured list please?',\n",
       " 'chat_history': [HumanMessage(content='What is partitioning?', additional_kwargs={}, response_metadata={}),\n",
       "  AIMessage(content=' Partitioning refers to dividing a large dataset into smaller parts, called partitions, each of which resides on a separate node or storage unit within a shared-nothing cluster. This allows for scalability and better performance by distributing data across multiple nodes. Each partition acts like a small database, although it can also handle operations that involve multiple partitions simultaneously.', additional_kwargs={}, response_metadata={})],\n",
       " 'context': [Document(metadata={'page': 220, 'source': '/Users/stolli/IT/Designing Data-Intensive Applications.pdf'}, page_content='Terminological confusion\\nWhat we call a partition  here is called a shard  in MongoDB, Elas‐\\nticsearch, and SolrCloud; it’s known as a region  in HBase, a tablet\\nin Bigtable, a vnode  in Cassandra and Riak, and a vBucket  in\\nCouchbase. However, partitioning  is the most established term, so\\nwe’ll stick with that.\\nNormally, partitions are defined in such a way that each piece of data (each record,\\nrow, or document) belongs to exactly one partition. There are various ways of achiev‐\\ning this, which we discuss in depth in this chapter. In effect, each partition is a small\\ndatabase of its own, although the database may support operations that touch multi‐\\nple partitions at the same time.\\nThe main reason for wanting to partition data is scalability . Different partitions can\\nbe placed on different nodes in a shared-nothing cluster (see the introduction to\\n199'),\n",
       "  Document(metadata={'page': 220, 'source': '/Users/stolli/IT/Designing Data-Intensive Applications.pdf'}, page_content='Terminological confusion\\nWhat we call a partition  here is called a shard  in MongoDB, Elas‐\\nticsearch, and SolrCloud; it’s known as a region  in HBase, a tablet\\nin Bigtable, a vnode  in Cassandra and Riak, and a vBucket  in\\nCouchbase. However, partitioning  is the most established term, so\\nwe’ll stick with that.\\nNormally, partitions are defined in such a way that each piece of data (each record,\\nrow, or document) belongs to exactly one partition. There are various ways of achiev‐\\ning this, which we discuss in depth in this chapter. In effect, each partition is a small\\ndatabase of its own, although the database may support operations that touch multi‐\\nple partitions at the same time.\\nThe main reason for wanting to partition data is scalability . Different partitions can\\nbe placed on different nodes in a shared-nothing cluster (see the introduction to\\n199'),\n",
       "  Document(metadata={'page': 220, 'source': '/Users/stolli/IT/Designing Data-Intensive Applications.pdf'}, page_content='Terminological confusion\\nWhat we call a partition  here is called a shard  in MongoDB, Elas‐\\nticsearch, and SolrCloud; it’s known as a region  in HBase, a tablet\\nin Bigtable, a vnode  in Cassandra and Riak, and a vBucket  in\\nCouchbase. However, partitioning  is the most established term, so\\nwe’ll stick with that.\\nNormally, partitions are defined in such a way that each piece of data (each record,\\nrow, or document) belongs to exactly one partition. There are various ways of achiev‐\\ning this, which we discuss in depth in this chapter. In effect, each partition is a small\\ndatabase of its own, although the database may support operations that touch multi‐\\nple partitions at the same time.\\nThe main reason for wanting to partition data is scalability . Different partitions can\\nbe placed on different nodes in a shared-nothing cluster (see the introduction to\\n199'),\n",
       "  Document(metadata={'page': 220, 'source': '/Users/stolli/IT/Designing Data-Intensive Applications.pdf'}, page_content='Terminological confusion\\nWhat we call a partition  here is called a shard  in MongoDB, Elas‐\\nticsearch, and SolrCloud; it’s known as a region  in HBase, a tablet\\nin Bigtable, a vnode  in Cassandra and Riak, and a vBucket  in\\nCouchbase. However, partitioning  is the most established term, so\\nwe’ll stick with that.\\nNormally, partitions are defined in such a way that each piece of data (each record,\\nrow, or document) belongs to exactly one partition. There are various ways of achiev‐\\ning this, which we discuss in depth in this chapter. In effect, each partition is a small\\ndatabase of its own, although the database may support operations that touch multi‐\\nple partitions at the same time.\\nThe main reason for wanting to partition data is scalability . Different partitions can\\nbe placed on different nodes in a shared-nothing cluster (see the introduction to\\n199')],\n",
       " 'answer': ' Sure! Here is the information presented as a structured list:\\n\\n1. **Definition**: Partitioning involves dividing a large dataset into smaller units called partitions. These partitions are then distributed across different nodes or storage units within a shared-nothing cluster.\\n   \\n2. **Purpose**: The main goal of partitioning data is to enhance scalability and improve performance by distributing the load among multiple nodes.\\n\\n3. **Characteristics**: Each partition can act as a small database, capable of handling queries that involve accessing more than one partition simultaneously.'}"
      ]
     },
     "execution_count": 15,
     "metadata": {},
     "output_type": "execute_result"
    }
   ],
   "source": [
    "rag_chain.invoke(\n",
    "    {\"input\": \"Can you repeat your answer as structured list please?\"},\n",
    "    config={\n",
    "        \"configurable\": {\"session_id\": \"abc123\"}\n",
    "    }\n",
    ")"
   ]
  },
  {
   "cell_type": "code",
   "execution_count": null,
   "metadata": {},
   "outputs": [],
   "source": []
  }
 ],
 "metadata": {
  "kernelspec": {
   "display_name": "llm-app",
   "language": "python",
   "name": "python3"
  },
  "language_info": {
   "codemirror_mode": {
    "name": "ipython",
    "version": 3
   },
   "file_extension": ".py",
   "mimetype": "text/x-python",
   "name": "python",
   "nbconvert_exporter": "python",
   "pygments_lexer": "ipython3",
   "version": "3.9.18"
  }
 },
 "nbformat": 4,
 "nbformat_minor": 2
}
